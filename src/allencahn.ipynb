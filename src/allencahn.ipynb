{
  "cells": [
    {
      "cell_type": "code",
      "execution_count": 1,
      "metadata": {
        "colab": {
          "base_uri": "https://localhost:8080/"
        },
        "id": "KoC-hLN4Oliv",
        "outputId": "b4c2108c-7f23-4689-f2ad-a596daaf52a6"
      },
      "outputs": [],
      "source": [
        "import os\n",
        "import time\n",
        "import jax\n",
        "import jax.numpy as jnp\n",
        "import optax\n",
        "import matplotlib.pyplot as plt\n",
        "from tqdm import trange\n",
        "from jax import jvp, value_and_grad\n",
        "from flax import linen as nn\n",
        "from typing import Sequence\n",
        "from functools import partial\n",
        "import time\n",
        "import tree_math as tm\n",
        "import matplotlib.font_manager as font_manager\n",
        "from copy import copy\n",
        "from copy import deepcopy\n",
        "from jax import jit\n",
        "import numpy as np\n",
        "import pickle as pkl\n",
        "import pandas as pd\n",
        "import pickle\n",
        "import math"
      ]
    },
    {
      "cell_type": "code",
      "execution_count": 2,
      "metadata": {
        "id": "ERJT6vj73h_C"
      },
      "outputs": [],
      "source": [
        "# Plot settings\n",
        "font = {'family': 'serif',\n",
        "        'color':  'black',\n",
        "        'weight': 'normal',\n",
        "        'size': 10,\n",
        "        }\n",
        "\n",
        "font_legend = font_manager.FontProperties(family='serif', style='normal')\n",
        "\n",
        "plt.rcParams['font.family'] = 'serif'"
      ]
    },
    {
      "cell_type": "code",
      "execution_count": null,
      "metadata": {
        "id": "AGpuwYJlstVz"
      },
      "outputs": [],
      "source": []
    },
    {
      "cell_type": "markdown",
      "metadata": {
        "id": "lOqc5OoSN_5M"
      },
      "source": [
        "\n",
        "## 1. Anant-Net"
      ]
    },
    {
      "cell_type": "code",
      "execution_count": 3,
      "metadata": {
        "id": "GM8FokAfe4iC"
      },
      "outputs": [],
      "source": [
        "class Anant(nn.Module):\n",
        "    features: Sequence[int]\n",
        "\n",
        "    def einsum(self, outputs):\n",
        "      dim = len(outputs)\n",
        "\n",
        "      # einsum(a,b->c)\n",
        "      a = 'za'\n",
        "      b = 'zb'\n",
        "      c = 'zab'\n",
        "      pred = jnp.einsum(f'{a}, {b}->{c}', outputs[0], outputs[1])\n",
        "\n",
        "      for i in range(dim-2):\n",
        "          a = c\n",
        "          b = f'z{chr(97+i+2)}'\n",
        "          c = c+chr(97+i+2)\n",
        "          if i == dim-3:\n",
        "              c = c[1:]\n",
        "          pred = jnp.einsum(f'{a}, {b}->{c}', pred, outputs[i+2])\n",
        "\n",
        "      return pred\n",
        "\n",
        "\n",
        "    def stack_body_networks(self, init, X):\n",
        "        for fs in self.features[:-1]:\n",
        "            X = nn.Dense(fs, kernel_init=init)(X)\n",
        "            X = jnp.sin(X)\n",
        "        X = nn.Dense(self.features[-1], kernel_init=init)(X)\n",
        "        outputs = [jnp.transpose(X, (1, 0))]\n",
        "\n",
        "        return outputs\n",
        "\n",
        "    @nn.compact\n",
        "    def __call__(self, x1, x2, x3, y1, y2, y3, z1, z2, z3):\n",
        "\n",
        "        x = jnp.hstack([x1, x2, x3])\n",
        "        y = jnp.hstack([y1, y2, y3])\n",
        "        z = jnp.hstack([z1, z2, z3])\n",
        "\n",
        "        inputs, outputs = [x, y, z], []\n",
        "        init = nn.initializers.glorot_normal()\n",
        "\n",
        "        for i,X in enumerate(inputs):\n",
        "          outputs += self.stack_body_networks(init, X)\n",
        "\n",
        "        u = self.einsum(outputs)\n",
        "        return u"
      ]
    },
    {
      "cell_type": "code",
      "execution_count": 4,
      "metadata": {
        "id": "bnOCiapsptns"
      },
      "outputs": [],
      "source": [
        "class Anant_test(nn.Module):\n",
        "    features: Sequence[int]\n",
        "\n",
        "    def einsum(self, outputs):\n",
        "      dim = len(outputs)\n",
        "\n",
        "      # einsum(a,b->c)\n",
        "      a = 'za'\n",
        "      b = 'zb'\n",
        "      c = 'zab'\n",
        "      pred = jnp.einsum(f'{a}, {b}->{c}', outputs[0], outputs[1])\n",
        "\n",
        "      for i in range(dim-2):\n",
        "          a = c\n",
        "          b = f'z{chr(97+i+2)}'\n",
        "          c = c+chr(97+i+2)\n",
        "          if i == dim-3:\n",
        "              c = c[1:]\n",
        "          pred = jnp.einsum(f'{a}, {b}->{c}', pred, outputs[i+2])\n",
        "\n",
        "      return pred\n",
        "\n",
        "\n",
        "    def stack_body_networks(self, init, X):\n",
        "        for fs in self.features[:-1]:\n",
        "            X = nn.Dense(fs, kernel_init=init)(X)\n",
        "            X = jnp.sin(X)\n",
        "        X = nn.Dense(self.features[-1], kernel_init=init)(X)\n",
        "        outputs = [jnp.transpose(X, (1, 0))]\n",
        "\n",
        "        return outputs\n",
        "\n",
        "\n",
        "    @nn.compact\n",
        "    def __call__(self, x, y, z):\n",
        "\n",
        "        inputs, outputs = [x, y, z], []\n",
        "        init = nn.initializers.glorot_normal()\n",
        "\n",
        "        for i,X in enumerate(inputs):\n",
        "          outputs += self.stack_body_networks(init, X)\n",
        "\n",
        "        u = self.einsum(outputs)\n",
        "        return u"
      ]
    },
    {
      "cell_type": "code",
      "execution_count": 5,
      "metadata": {},
      "outputs": [],
      "source": [
        "# hessian-vector product\n",
        "def hvp_fwdfwd(f, primals, tangents, return_primals=False):\n",
        "    \"\"\"\n",
        "    Function to compute the hessian via jacobian-vector product (jvp) of a function\n",
        "\n",
        "    Arguments:\n",
        "      f: function to differntiate\n",
        "      primals: values for which the function (f) should be evaluated\n",
        "      tangents: tangent vector for which the Jacobian-vector product should be evaluated\n",
        "      return_primals: return primals if True\n",
        "\n",
        "    Return:\n",
        "      primals_out: function evaluated at the primals\n",
        "      tangents_out: the Jacobian-vector product of function evaluated at primals with tangents.\n",
        "    \"\"\"\n",
        "    g = lambda primals: jvp(f, (primals,), tangents)[1]\n",
        "    primals_out, tangents_out = jvp(g, primals, tangents)\n",
        "    if return_primals:\n",
        "        return primals_out, tangents_out\n",
        "    else:\n",
        "        return tangents_out"
      ]
    },
    {
      "cell_type": "code",
      "execution_count": 6,
      "metadata": {
        "id": "KT3stCaTa1pp"
      },
      "outputs": [],
      "source": [
        "@partial(jax.jit, static_argnums=(0,))\n",
        "def apply_anant_collocation(apply_fn, params, train_data):\n",
        "    \"\"\"\n",
        "    Function to compute the PDE residue along the active dimensions for a high-dimensional PDE\n",
        "\n",
        "    Arguments:\n",
        "      apply_fn: calling Anant-Net\n",
        "      params: trainable parameters of Anant-Net\n",
        "      train_data: collocation points\n",
        "\n",
        "    Return:\n",
        "      loss: residual loss\n",
        "      gradient: gradient of residual loss\n",
        "    \"\"\"\n",
        "    def residual_loss(params, x, y, z, source_term):\n",
        "\n",
        "        x1, x2, x3 = x\n",
        "        y1, y2, y3 = y\n",
        "        z1, z2, z3 = z\n",
        "\n",
        "        # compute u\n",
        "        u = apply_fn(params, x1, x2, x3, y1, y2, y3, z1, z2, z3)\n",
        "\n",
        "        # tangent vector dx/dx\n",
        "        v_x = jnp.ones(x2.shape)\n",
        "        v_y = jnp.ones(y2.shape)\n",
        "        v_z = jnp.ones(z2.shape)\n",
        "\n",
        "        # 2nd derivatives of u\n",
        "        uxx = hvp_fwdfwd(lambda x2: apply_fn(params, x1, x2, x3, y1, y2, y3, z1, z2, z3), (x2,), (v_x,))\n",
        "        uyy = hvp_fwdfwd(lambda y2: apply_fn(params, x1, x2, x3, y1, y2, y3, z1, z2, z3), (y2,), (v_y,))\n",
        "        uzz = hvp_fwdfwd(lambda z2: apply_fn(params, x1, x2, x3, y1, y2, y3, z1, z2, z3), (z2,), (v_z,))\n",
        "\n",
        "        return jnp.mean((- uzz - uyy - uxx + u - u**3 - source_term)**2)\n",
        "\n",
        "    # unpack data\n",
        "    xc, yc, zc, uc, _ = train_data\n",
        "\n",
        "    # isolate loss func from redundant arguments\n",
        "    loss_fn = lambda params: residual_loss(params, xc, yc, zc, uc)\n",
        "    loss, gradient = jax.value_and_grad(loss_fn)(params)\n",
        "\n",
        "    return loss, gradient"
      ]
    },
    {
      "cell_type": "code",
      "execution_count": 7,
      "metadata": {
        "id": "FwVxI5yqkAYz"
      },
      "outputs": [],
      "source": [
        "@partial(jax.jit, static_argnums=(0,))\n",
        "def apply_anant_boundary(apply_fn, params, train_data, lamb=10):\n",
        "    \"\"\"\n",
        "    Function to compute the data loss (boundary/initial conditions) for a high-dimensional PDE\n",
        "\n",
        "    Arguments:\n",
        "      apply_fn: calling Anant-Net\n",
        "      params: trainable parameters of Anant-Net\n",
        "      train_data: boundary points\n",
        "\n",
        "    Return:\n",
        "      loss: data loss\n",
        "      gradient: gradient of data loss\n",
        "    \"\"\"\n",
        "    def boundary_loss(params, X):\n",
        "        loss = 0.\n",
        "        for i in range(len(X)):\n",
        "            loss += (1/len(X)) * jnp.mean((apply_fn(params, X[i][0][0], X[i][0][1], X[i][0][2],\\\n",
        "                                                    X[i][1][0], X[i][1][1], X[i][1][2],\\\n",
        "                                                    X[i][2][0], X[i][2][1], X[i][2][2]) - X[i][3])**2)\n",
        "        return loss\n",
        "\n",
        "    # isolate loss func from redundant arguments\n",
        "    loss_fn = lambda params: lamb*boundary_loss(params, train_data)\n",
        "    loss, gradient = jax.value_and_grad(loss_fn)(params)\n",
        "\n",
        "    return loss, gradient"
      ]
    },
    {
      "cell_type": "code",
      "execution_count": 8,
      "metadata": {
        "id": "HTAkjxL2FSlS"
      },
      "outputs": [],
      "source": [
        "# optimizer step function\n",
        "@partial(jax.jit, static_argnums=(0,))\n",
        "def update_model(optim, gradient, params, state):\n",
        "    \"\"\"\n",
        "    Function to update the trainable parameters based on the computed gradients\n",
        "\n",
        "    Arguments:\n",
        "      optim: optimizer to update the trainable parameters\n",
        "      gradient: gradient of loss function\n",
        "      params: trainable parameters of Anant-Net\n",
        "      state: optimizer state\n",
        "\n",
        "    Return:\n",
        "      params: updated trainable parameters of Anant-Net\n",
        "      state: current optimizer state\n",
        "    \"\"\"\n",
        "    updates, state = optim.update(gradient, state, params)\n",
        "    params = optax.apply_updates(params, updates)\n",
        "    return params, state"
      ]
    },
    {
      "cell_type": "code",
      "execution_count": null,
      "metadata": {
        "id": "4VqSk3PsFSra"
      },
      "outputs": [],
      "source": []
    },
    {
      "cell_type": "markdown",
      "metadata": {
        "id": "y3OErz7bN_5O"
      },
      "source": [
        "## 2. Data generator"
      ]
    },
    {
      "cell_type": "code",
      "execution_count": 9,
      "metadata": {
        "id": "2zPmXpbaS43f"
      },
      "outputs": [],
      "source": [
        "def allencahnNd_exact_u_(index_batch, fixed_batch, X, fX = 0.0, random_test = True):\n",
        "    \"\"\"\n",
        "    Function to compute the exact solution of high-dimensional Allen-Cahn equation\n",
        "    Note: the exact solutions generated using this function are meant for testing purposes and not utlized for model training\n",
        "\n",
        "    Arguments:\n",
        "      index_batch: active dimensions\n",
        "      fixed_batch: inactive dimensions\n",
        "      X: values for active dimensions\n",
        "      fX: fixed value for inactive dimensions\n",
        "      random_test: if \"True\" returns exact solution at randomly sampled points from the high-dimensional space for testing the trained Anant-Net model\n",
        "                   if \"False\" returns the exact solution for a strucutred grid in the high-dimensional space\n",
        "\n",
        "    Return:\n",
        "      exact: exact solution\n",
        "    \"\"\"\n",
        "    if random_test:\n",
        "      ndims = len(index_batch) + len(fixed_batch)\n",
        "      X_tot = [xi for x in X for xi in x]\n",
        "\n",
        "    else:\n",
        "      uxx = jnp.zeros_like(X[0])\n",
        "      fX = fX * jnp.ones_like(X[0])\n",
        "\n",
        "      ndims = len(index_batch) + len(fixed_batch)\n",
        "      X_tot = []\n",
        "      for i in range(ndims):\n",
        "        if i in index_batch:\n",
        "          id = np.argwhere(np.array(index_batch) == i).ravel()[0]\n",
        "          X_tot.append(X[id])\n",
        "        else:\n",
        "          X_tot.append(fX)\n",
        "\n",
        "    ############ Exact solution ##########\n",
        "    key = jax.random.PRNGKey(444)\n",
        "\n",
        "    exact = jnp.zeros_like(X_tot[0])\n",
        "\n",
        "    for i in range(ndims):\n",
        "      exact += X_tot[i]\n",
        "\n",
        "    exact = 1/ndims * exact\n",
        "    exact = exact**2 + jnp.sin(exact)\n",
        "\n",
        "    del X_tot\n",
        "    return jnp.atleast_3d(exact)\n",
        "\n",
        "\n",
        "def allencahnNd_source_term_(index_batch, fixed_batch, X, fX = 0.0):\n",
        "    \"\"\"\n",
        "    Function to compute the exact solution of high-dimensional Allen-Cahn equation\n",
        "\n",
        "    Arguments:\n",
        "      index_batch: active dimensions\n",
        "      fixed_batch: inactive dimensions\n",
        "      X: values for active dimensions\n",
        "      fX: fixed value for inactive dimensions\n",
        "      random_test: if \"True\" returns exact solution at randomly sampled points from the high-dimensional space for testing the trained Anant-Net model\n",
        "                   if \"False\" returns the exact solution for a strucutred grid in the high-dimensional space\n",
        "\n",
        "    Return:\n",
        "      f: source term\n",
        "    \"\"\"\n",
        "    fX_copy = fX\n",
        "\n",
        "    f = jnp.zeros_like(X[0])\n",
        "    fX = fX * jnp.ones_like(X[0])\n",
        "\n",
        "    ndims = len(index_batch) + len(fixed_batch)\n",
        "    X_tot = []\n",
        "    for i in range(ndims):\n",
        "      if i in index_batch:\n",
        "        id = np.argwhere(np.array(index_batch) == i).ravel()[0]\n",
        "        X_tot.append(X[id])\n",
        "      else:\n",
        "        X_tot.append(fX)\n",
        "\n",
        "    v = jnp.ones(X_tot[0].shape)\n",
        "    f = jnp.zeros(X_tot[0].shape)\n",
        "\n",
        "    for i in range(ndims):\n",
        "      f += X_tot[i]\n",
        "\n",
        "    f = 1/ndims * f\n",
        "    f = (1/ndims)*(jnp.sin(f) - 2.)\n",
        "\n",
        "    u_exact = allencahnNd_exact_u_(index_batch, fixed_batch, X, fX_copy, random_test=False)\n",
        "\n",
        "    f = f + u_exact - u_exact**3\n",
        "\n",
        "    del X_tot\n",
        "    return f"
      ]
    },
    {
      "cell_type": "code",
      "execution_count": 10,
      "metadata": {
        "id": "iss0OLBac-Lz"
      },
      "outputs": [],
      "source": [
        "def generate_dims(seed, ndims, niters, bound = False):\n",
        "  \"\"\"\n",
        "  Function to randomly generate active (and corresponding inactive) dimensions for a high-dimensional PDE\n",
        "\n",
        "  Arguments:\n",
        "    seed: seed for random number generation\n",
        "    ndims: total number of dimensions for the pde\n",
        "    niters: number of iterations\n",
        "    bound: if \"True\" inactive dimensions will be evalauted only at boundary points (eg: {-1,1} in this case)\n",
        "           if \"False\" inactive dimensions will be evaluated at any random point in the high-dimensional space\n",
        "\n",
        "  Yield:\n",
        "    a list of active dimensions and the corresponding fixed value at which all the inactive dimensions\n",
        "    are evaluated in the high-dimensional space\n",
        "  \"\"\"\n",
        "  idx = int(ndims/3)\n",
        "  np.random.seed(seed)\n",
        "  FLAG = 0\n",
        "\n",
        "  for i in range(niters):\n",
        "    if not FLAG:\n",
        "      dims1 = list(np.random.permutation(jnp.arange(1, idx-1, 1)))\n",
        "      dims2 = list(np.random.permutation(jnp.arange(idx+1, 2*idx-1, 1)))\n",
        "      dims3 = list(np.random.permutation(jnp.arange(2*idx+1, 3*idx-1, 1)))\n",
        "\n",
        "      dims1_ = dims1[0]\n",
        "      dims2_ = dims2[0]\n",
        "      dims3_ = dims3[0]\n",
        "\n",
        "      dims1.pop(0)\n",
        "      dims2.pop(0)\n",
        "      dims3.pop(0)\n",
        "      FLAG = 1\n",
        "    else:\n",
        "      dims1_ = dims1[0]\n",
        "      dims2_ = dims2[0]\n",
        "      dims3_ = dims3[0]\n",
        "\n",
        "      dims1.pop(0)\n",
        "      dims2.pop(0)\n",
        "      dims3.pop(0)\n",
        "\n",
        "      if len(dims1) == 0:\n",
        "        FLAG = 0\n",
        "\n",
        "    if bound:\n",
        "      factor = np.random.choice(np.arange(-1.,2.,2.))\n",
        "    else:\n",
        "      factor = np.random.choice(np.arange(-1.0,1.0,0.1))\n",
        "\n",
        "    yield [int(dims1_), int(dims2_), int(dims3_)], float(factor.round(2))"
      ]
    },
    {
      "cell_type": "code",
      "execution_count": 11,
      "metadata": {
        "colab": {
          "base_uri": "https://localhost:8080/"
        },
        "id": "smIVNBYac-Pb",
        "outputId": "a9551520-8c68-42e4-b205-3331cc69f475"
      },
      "outputs": [
        {
          "name": "stdout",
          "output_type": "stream",
          "text": [
            "([2, 56, 96], 1.0)\n",
            "([5, 38, 89], 1.0)\n",
            "([6, 54, 88], -1.0)\n",
            "([20, 60, 97], -1.0)\n",
            "([14, 51, 72], 1.0)\n",
            "([25, 34, 93], -1.0)\n",
            "([7, 48, 83], 1.0)\n",
            "([19, 58, 94], 1.0)\n",
            "([26, 40, 70], 1.0)\n",
            "([27, 39, 95], -1.0)\n",
            "([1, 44, 74], 1.0)\n",
            "([18, 35, 85], 1.0)\n",
            "([12, 46, 69], 1.0)\n",
            "([15, 45, 75], 1.0)\n",
            "([30, 61, 92], 1.0)\n",
            "([3, 50, 86], 1.0)\n",
            "([22, 52, 84], 1.0)\n",
            "([11, 57, 73], -1.0)\n",
            "([29, 55, 78], 1.0)\n",
            "([10, 43, 71], 1.0)\n",
            "([28, 49, 90], 1.0)\n",
            "([16, 36, 81], 1.0)\n",
            "([23, 47, 80], -1.0)\n",
            "([13, 53, 76], -1.0)\n",
            "([8, 63, 68], 1.0)\n",
            "([21, 42, 91], 1.0)\n",
            "([31, 37, 79], -1.0)\n",
            "([9, 59, 82], 1.0)\n",
            "([24, 64, 87], -1.0)\n",
            "([17, 41, 67], -1.0)\n",
            "([4, 62, 77], 1.0)\n",
            "([11, 54, 84], -1.0)\n",
            "([30, 34, 86], -1.0)\n",
            "([6, 42, 82], 1.0)\n",
            "([4, 57, 67], -1.0)\n"
          ]
        }
      ],
      "source": [
        "gen = generate_dims(444, 99, 35, 1)\n",
        "for i in gen:\n",
        "  print(i)"
      ]
    },
    {
      "cell_type": "markdown",
      "metadata": {
        "id": "I4FCFrVLMgGR"
      },
      "source": [
        "### Test Data"
      ]
    },
    {
      "cell_type": "code",
      "execution_count": 12,
      "metadata": {
        "id": "St4tXzRWdETx"
      },
      "outputs": [],
      "source": [
        "def _test_generator_allencahnNd_random(key, ninputs):\n",
        "    '''\n",
        "    factor = -1,1: Boudnary points\n",
        "    factor != -1,1: Interior points\n",
        "    '''\n",
        "\n",
        "    data = []\n",
        "    dim_list = []\n",
        "\n",
        "    # total number of dimensions for the pde\n",
        "    ndims = 3*ninputs\n",
        "\n",
        "    # dimension index\n",
        "    lst = list(np.arange(0,ndims,1))\n",
        "\n",
        "    # seeds to randomly generate activated dimensions\n",
        "    seeds = np.arange(0,len(key),1)\n",
        "\n",
        "    # collocation points\n",
        "    for j in range(len(key)):\n",
        "      keys = jax.random.split(key[j], 3)\n",
        "\n",
        "      # collocation points\n",
        "      c1 = jax.random.uniform(keys[0], (ninputs,1), minval=-1.0, maxval=1.0)\n",
        "      c2 = jax.random.uniform(keys[1], (ninputs,1), minval=-1.0, maxval=1.0)\n",
        "      c3 = jax.random.uniform(keys[2], (ninputs,1), minval=-1.0, maxval=1.0)\n",
        "\n",
        "      uc = allencahnNd_exact_u_(lst, [], [c1, c2, c3])\n",
        "\n",
        "      c1, c2, c3 = c1.T, c2.T, c3.T\n",
        "      data.append([c1, c2, c3, uc])\n",
        "\n",
        "    return data"
      ]
    },
    {
      "cell_type": "code",
      "execution_count": 13,
      "metadata": {
        "colab": {
          "base_uri": "https://localhost:8080/"
        },
        "id": "b3SgwVZse0Li",
        "outputId": "1c5c1062-a44d-4ed2-e7e9-f3d8cd40205d"
      },
      "outputs": [
        {
          "data": {
            "text/plain": [
              "[[Array([[-0.98189783,  0.8204565 ,  0.4572053 ]], dtype=float32),\n",
              "  Array([[0.31219506, 0.11097169, 0.5340574 ]], dtype=float32),\n",
              "  Array([[-0.49980354,  0.6980226 , -0.6882596 ]], dtype=float32),\n",
              "  Array([[[0.09185674]]], dtype=float32)],\n",
              " [Array([[0.39400816, 0.72540736, 0.0255549 ]], dtype=float32),\n",
              "  Array([[ 0.15588188, -0.5705161 ,  0.7560077 ]], dtype=float32),\n",
              "  Array([[-0.03737426,  0.9326124 , -0.02509737]], dtype=float32),\n",
              "  Array([[[0.327406]]], dtype=float32)],\n",
              " [Array([[0.09366703, 0.62533736, 0.5107343 ]], dtype=float32),\n",
              "  Array([[0.27566886, 0.15903115, 0.40404105]], dtype=float32),\n",
              "  Array([[ 0.6407676 , -0.34005594,  0.77477884]], dtype=float32),\n",
              "  Array([[[0.46429986]]], dtype=float32)]]"
            ]
          },
          "execution_count": 13,
          "metadata": {},
          "output_type": "execute_result"
        }
      ],
      "source": [
        "_test_generator_allencahnNd_random([jax.random.PRNGKey(445), jax.random.PRNGKey(44), jax.random.PRNGKey(4)], 3)"
      ]
    },
    {
      "cell_type": "markdown",
      "metadata": {
        "id": "lRrO5OB8MdDb"
      },
      "source": [
        "### Collocation Data"
      ]
    },
    {
      "cell_type": "code",
      "execution_count": 14,
      "metadata": {
        "id": "7Jjj1PsEAyeV"
      },
      "outputs": [],
      "source": [
        "def _anant_train_generator_allencahnNd_collocation(nxy, key, ninputs, seed):\n",
        "    '''\n",
        "    factor = -1,1: Boudnary points\n",
        "    factor != -1,1: Interior points\n",
        "    '''\n",
        "\n",
        "    data = []\n",
        "    dim_list = []\n",
        "\n",
        "    ndims = 3*ninputs\n",
        "    lst = list(np.arange(0,ndims,1))\n",
        "\n",
        "    seeds = np.arange(0,len(key),1)\n",
        "\n",
        "    # dimension sampler\n",
        "    gen = generate_dims(seed, ndims, len(key))\n",
        "\n",
        "    # collocation points\n",
        "    for j,(dims,factor) in enumerate(gen):\n",
        "\n",
        "      keys = jax.random.split(key[j], 3)\n",
        "      data_temp = []\n",
        "      dim_list.append(dims)\n",
        "\n",
        "      c1 = jnp.ones((ninputs, nxy))*factor\n",
        "      c2 = jnp.ones((ninputs, nxy))*factor\n",
        "      c3 = jnp.ones((ninputs, nxy))*factor\n",
        "\n",
        "      # collocation points\n",
        "      c1_temp = jax.random.uniform(keys[0], (nxy,), minval=-1.0, maxval=1.0)\n",
        "      c2_temp = jax.random.uniform(keys[1], (nxy,), minval=-1.0, maxval=1.0)\n",
        "      c3_temp = jax.random.uniform(keys[2], (nxy,), minval=-1.0, maxval=1.0)\n",
        "\n",
        "      # source term\n",
        "      c1m, c2m, c3m = jnp.meshgrid(c1_temp, c2_temp, c3_temp, indexing='ij')\n",
        "\n",
        "      index_batch = [dims[0], dims[1], dims[2]]\n",
        "      idx1 = (index_batch[0] != np.array(lst)).ravel()\n",
        "      idx2 = (index_batch[1] != np.array(lst)).ravel()\n",
        "      idx3 = (index_batch[2] != np.array(lst)).ravel()\n",
        "      fixed_batch = np.argwhere(idx1*idx2*idx3 == True).ravel()\n",
        "\n",
        "      uc = allencahnNd_source_term_(index_batch, fixed_batch, [c1m, c2m, c3m], factor)\n",
        "\n",
        "      c1 = c1.at[dims[0],:].set(c1_temp)\n",
        "      c2 = c2.at[dims[1]-(1*ninputs),:].set(c2_temp)\n",
        "      c3 = c3.at[dims[2]-(2*ninputs),:].set(c3_temp)\n",
        "\n",
        "      c1, c2, c3 = c1.T, c2.T, c3.T\n",
        "\n",
        "      c11 = c1[:, :dims[0]]\n",
        "      c12 = c1[:, dims[0]].reshape(-1,1)\n",
        "      c13 = c1[:, dims[0]+1:]\n",
        "\n",
        "      c21 = c2[:, :dims[1]-(1*ninputs)]\n",
        "      c22 = c2[:, dims[1]-(1*ninputs)].reshape(-1,1)\n",
        "      c23 = c2[:, dims[1]-(1*ninputs)+1:]\n",
        "\n",
        "      c31 = c3[:, :dims[2]-(2*ninputs)]\n",
        "      c32 = c3[:, dims[2]-(2*ninputs)].reshape(-1,1)\n",
        "      c33 = c3[:, dims[2]-(2*ninputs)+1:]\n",
        "\n",
        "      data.append([[c11, c12, c13], [c21, c22, c23], [c31, c32, c33], uc])\n",
        "\n",
        "    return data, dim_list"
      ]
    },
    {
      "cell_type": "code",
      "execution_count": 15,
      "metadata": {
        "colab": {
          "base_uri": "https://localhost:8080/"
        },
        "id": "ux-plwFJF_oI",
        "outputId": "e4638ef4-2062-4c5a-b2da-843258744f95"
      },
      "outputs": [
        {
          "data": {
            "text/plain": [
              "([[[Array([[0.3, 0.3],\n",
              "           [0.3, 0.3],\n",
              "           [0.3, 0.3],\n",
              "           [0.3, 0.3]], dtype=float32),\n",
              "    Array([[-0.4376738 ],\n",
              "           [ 0.42755318],\n",
              "           [ 0.14637709],\n",
              "           [-0.11809397]], dtype=float32),\n",
              "    Array([[0.3, 0.3, 0.3, 0.3],\n",
              "           [0.3, 0.3, 0.3, 0.3],\n",
              "           [0.3, 0.3, 0.3, 0.3],\n",
              "           [0.3, 0.3, 0.3, 0.3]], dtype=float32)],\n",
              "   [Array([[0.3, 0.3, 0.3, 0.3, 0.3],\n",
              "           [0.3, 0.3, 0.3, 0.3, 0.3],\n",
              "           [0.3, 0.3, 0.3, 0.3, 0.3],\n",
              "           [0.3, 0.3, 0.3, 0.3, 0.3]], dtype=float32),\n",
              "    Array([[-0.6865864 ],\n",
              "           [-0.76568747],\n",
              "           [-0.6264143 ],\n",
              "           [ 0.75231457]], dtype=float32),\n",
              "    Array([[0.3],\n",
              "           [0.3],\n",
              "           [0.3],\n",
              "           [0.3]], dtype=float32)],\n",
              "   [Array([[0.3, 0.3, 0.3, 0.3, 0.3],\n",
              "           [0.3, 0.3, 0.3, 0.3, 0.3],\n",
              "           [0.3, 0.3, 0.3, 0.3, 0.3],\n",
              "           [0.3, 0.3, 0.3, 0.3, 0.3]], dtype=float32),\n",
              "    Array([[ 0.08064222],\n",
              "           [-0.8096907 ],\n",
              "           [ 0.17898488],\n",
              "           [-0.45080614]], dtype=float32),\n",
              "    Array([[0.3],\n",
              "           [0.3],\n",
              "           [0.3],\n",
              "           [0.3]], dtype=float32)],\n",
              "   Array([[[0.1481283 , 0.09710137, 0.1536419 , 0.1178536 ],\n",
              "           [0.14367023, 0.09250894, 0.14920968, 0.11329482],\n",
              "           [0.15150586, 0.10059146, 0.15699852, 0.12131415],\n",
              "           [0.22399576, 0.17839403, 0.22867402, 0.19740243]],\n",
              "   \n",
              "          [[0.19520508, 0.1467155 , 0.200305  , 0.16669488],\n",
              "           [0.19105938, 0.14225125, 0.1962077 , 0.16233419],\n",
              "           [0.19833288, 0.15009815, 0.20339438, 0.169994  ],\n",
              "           [0.26190966, 0.22278824, 0.26569438, 0.23951977]],\n",
              "   \n",
              "          [[0.18030505, 0.13076556, 0.18556705, 0.15108165],\n",
              "           [0.17603603, 0.12624173, 0.1813387 , 0.14663711],\n",
              "           [0.18353085, 0.13419694, 0.18876049, 0.15444821],\n",
              "           [0.25045037, 0.20892155, 0.25456187, 0.22650847]],\n",
              "   \n",
              "          [[0.16591407, 0.11558968, 0.17130372, 0.13614546],\n",
              "           [0.16154863, 0.11102594, 0.16697195, 0.13163961],\n",
              "           [0.16921693, 0.11905447, 0.17457959, 0.13956204],\n",
              "           [0.2388806 , 0.1953575 , 0.24326682, 0.21364547]]], dtype=float32)],\n",
              "  [[Array([[0.1, 0.1, 0.1],\n",
              "           [0.1, 0.1, 0.1],\n",
              "           [0.1, 0.1, 0.1],\n",
              "           [0.1, 0.1, 0.1]], dtype=float32),\n",
              "    Array([[-0.4111042 ],\n",
              "           [ 0.3679471 ],\n",
              "           [-0.71743226],\n",
              "           [-0.00788093]], dtype=float32),\n",
              "    Array([[0.1, 0.1, 0.1],\n",
              "           [0.1, 0.1, 0.1],\n",
              "           [0.1, 0.1, 0.1],\n",
              "           [0.1, 0.1, 0.1]], dtype=float32)],\n",
              "   [Array([[0.1],\n",
              "           [0.1],\n",
              "           [0.1],\n",
              "           [0.1]], dtype=float32),\n",
              "    Array([[-0.51673245],\n",
              "           [-0.6269686 ],\n",
              "           [ 0.78400946],\n",
              "           [ 0.9238887 ]], dtype=float32),\n",
              "    Array([[0.1, 0.1, 0.1, 0.1, 0.1],\n",
              "           [0.1, 0.1, 0.1, 0.1, 0.1],\n",
              "           [0.1, 0.1, 0.1, 0.1, 0.1],\n",
              "           [0.1, 0.1, 0.1, 0.1, 0.1]], dtype=float32)],\n",
              "   [Array([[0.1, 0.1, 0.1, 0.1],\n",
              "           [0.1, 0.1, 0.1, 0.1],\n",
              "           [0.1, 0.1, 0.1, 0.1],\n",
              "           [0.1, 0.1, 0.1, 0.1]], dtype=float32),\n",
              "    Array([[-0.5258696 ],\n",
              "           [-0.9259639 ],\n",
              "           [ 0.35426736],\n",
              "           [-0.08827877]], dtype=float32),\n",
              "    Array([[0.1, 0.1],\n",
              "           [0.1, 0.1],\n",
              "           [0.1, 0.1],\n",
              "           [0.1, 0.1]], dtype=float32)],\n",
              "   Array([[[-0.07769624, -0.09791543, -0.03091544, -0.05480647],\n",
              "           [-0.08333734, -0.10335978, -0.03693115, -0.06064506],\n",
              "           [-0.00760931, -0.02979166,  0.04257707,  0.01714673],\n",
              "           [ 0.00025352, -0.02209161,  0.05067294,  0.02514884]],\n",
              "   \n",
              "          [[-0.03643335, -0.05791783,  0.01263639, -0.0123113 ],\n",
              "           [-0.04241082, -0.06373116,  0.00637701, -0.01844393],\n",
              "           [ 0.03674113,  0.01380396,  0.08781817,  0.06208356],\n",
              "           [ 0.04482011,  0.02178995,  0.09594379,  0.070215  ]],\n",
              "   \n",
              "          [[-0.09324073, -0.11290395, -0.04752784, -0.07091191],\n",
              "           [-0.09873242, -0.11818887, -0.05342354, -0.07661436],\n",
              "           [-0.0246369 , -0.04642589,  0.02493892, -0.0002323 ],\n",
              "           [-0.0168959 , -0.03887056,  0.03297526,  0.00767683]],\n",
              "   \n",
              "          [[-0.05663177, -0.07753536, -0.00858273, -0.03306602],\n",
              "           [-0.06245559, -0.08317793, -0.01473653, -0.03906701],\n",
              "           [ 0.01518654, -0.00743401,  0.06596104,  0.04030524],\n",
              "           [ 0.0231793 ,  0.00042996,  0.07409555,  0.04839486]]],      dtype=float32)],\n",
              "  [[Array([[-1., -1., -1., -1., -1.],\n",
              "           [-1., -1., -1., -1., -1.],\n",
              "           [-1., -1., -1., -1., -1.],\n",
              "           [-1., -1., -1., -1., -1.]], dtype=float32),\n",
              "    Array([[ 0.08194947],\n",
              "           [ 0.2164774 ],\n",
              "           [ 0.1559205 ],\n",
              "           [-0.9456861 ]], dtype=float32),\n",
              "    Array([[-1.],\n",
              "           [-1.],\n",
              "           [-1.],\n",
              "           [-1.]], dtype=float32)],\n",
              "   [Array([[-1., -1., -1., -1.],\n",
              "           [-1., -1., -1., -1.],\n",
              "           [-1., -1., -1., -1.],\n",
              "           [-1., -1., -1., -1.]], dtype=float32),\n",
              "    Array([[ 0.24452543],\n",
              "           [ 0.8667493 ],\n",
              "           [-0.56789136],\n",
              "           [ 0.8516538 ]], dtype=float32),\n",
              "    Array([[-1., -1.],\n",
              "           [-1., -1.],\n",
              "           [-1., -1.],\n",
              "           [-1., -1.]], dtype=float32)],\n",
              "   [Array([[-1., -1.],\n",
              "           [-1., -1.],\n",
              "           [-1., -1.],\n",
              "           [-1., -1.]], dtype=float32),\n",
              "    Array([[ 0.82802105],\n",
              "           [-0.65016246],\n",
              "           [-0.7492931 ],\n",
              "           [-0.17034626]], dtype=float32),\n",
              "    Array([[-1., -1., -1., -1.],\n",
              "           [-1., -1., -1., -1.],\n",
              "           [-1., -1., -1., -1.],\n",
              "           [-1., -1., -1., -1.]], dtype=float32)],\n",
              "   Array([[[-0.20443355, -0.13633294, -0.13124332, -0.16006336],\n",
              "           [-0.22858009, -0.16681097, -0.1621285 , -0.18852581],\n",
              "           [-0.1688468 , -0.09283639, -0.08726397, -0.11901081],\n",
              "           [-0.22802629, -0.16610222, -0.16140963, -0.18786684]],\n",
              "   \n",
              "          [[-0.2098833 , -0.14313908, -0.13813508, -0.16644126],\n",
              "           [-0.23344614, -0.17305876, -0.16846694, -0.19432838],\n",
              "           [-0.1750546 , -0.10031065, -0.09481291, -0.12610105],\n",
              "           [-0.23290646, -0.17236392, -0.16776176, -0.19368361]],\n",
              "   \n",
              "          [[-0.20744579, -0.14008981, -0.13504717, -0.16358541],\n",
              "           [-0.23127125, -0.17026159, -0.16562888, -0.19173187],\n",
              "           [-0.17227545, -0.09695879, -0.09142721, -0.12292331],\n",
              "           [-0.23072515, -0.16956046, -0.16491759, -0.19108075]],\n",
              "   \n",
              "          [[-0.15865964, -0.08067042, -0.07498353, -0.1074382 ],\n",
              "           [-0.18724671, -0.11512695, -0.10978748, -0.14011176],\n",
              "           [-0.11745359, -0.03268534, -0.02663875, -0.06139418],\n",
              "           [-0.18658474, -0.11431777, -0.10896928, -0.13934812]]],      dtype=float32)],\n",
              "  [[Array([[-0.6],\n",
              "           [-0.6],\n",
              "           [-0.6],\n",
              "           [-0.6]], dtype=float32),\n",
              "    Array([[-0.5379374],\n",
              "           [ 0.8987553],\n",
              "           [ 0.7375226],\n",
              "           [-0.2772019]], dtype=float32),\n",
              "    Array([[-0.6, -0.6, -0.6, -0.6, -0.6],\n",
              "           [-0.6, -0.6, -0.6, -0.6, -0.6],\n",
              "           [-0.6, -0.6, -0.6, -0.6, -0.6],\n",
              "           [-0.6, -0.6, -0.6, -0.6, -0.6]], dtype=float32)],\n",
              "   [Array([[-0.6, -0.6, -0.6],\n",
              "           [-0.6, -0.6, -0.6],\n",
              "           [-0.6, -0.6, -0.6],\n",
              "           [-0.6, -0.6, -0.6]], dtype=float32),\n",
              "    Array([[-0.50196624],\n",
              "           [ 0.686368  ],\n",
              "           [-0.68836045],\n",
              "           [ 0.03158426]], dtype=float32),\n",
              "    Array([[-0.6, -0.6, -0.6],\n",
              "           [-0.6, -0.6, -0.6],\n",
              "           [-0.6, -0.6, -0.6],\n",
              "           [-0.6, -0.6, -0.6]], dtype=float32)],\n",
              "   [Array([[-0.6],\n",
              "           [-0.6],\n",
              "           [-0.6],\n",
              "           [-0.6]], dtype=float32),\n",
              "    Array([[ 0.94652176],\n",
              "           [-0.14662766],\n",
              "           [ 0.2135694 ],\n",
              "           [-0.330801  ]], dtype=float32),\n",
              "    Array([[-0.6, -0.6, -0.6, -0.6, -0.6],\n",
              "           [-0.6, -0.6, -0.6, -0.6, -0.6],\n",
              "           [-0.6, -0.6, -0.6, -0.6, -0.6],\n",
              "           [-0.6, -0.6, -0.6, -0.6, -0.6]], dtype=float32)],\n",
              "   Array([[[-0.33389282, -0.32559425, -0.32900387, -0.323587  ],\n",
              "           [-0.33622685, -0.33433107, -0.33558905, -0.33344272],\n",
              "           [-0.3329051 , -0.32356167, -0.32732403, -0.32137042],\n",
              "           [-0.3357791 , -0.33040538, -0.33282968, -0.32891124]],\n",
              "   \n",
              "          [[-0.33586746, -0.33526587, -0.33609152, -0.33460146],\n",
              "           [-0.3301709 , -0.33565325, -0.3344603 , -0.33602944],\n",
              "           [-0.33616427, -0.33459246, -0.33574215, -0.33376026],\n",
              "           [-0.3341217 , -0.33626768, -0.33617887, -0.3360758 ]],\n",
              "   \n",
              "          [[-0.3361337 , -0.33469325, -0.33579904, -0.3338838 ],\n",
              "           [-0.33132866, -0.33599123, -0.33506894, -0.33622843],\n",
              "           [-0.3362895 , -0.33387303, -0.33530518, -0.33289436],\n",
              "           [-0.33478895, -0.3361085 , -0.3362943 , -0.33577493]],\n",
              "   \n",
              "          [[-0.33498752, -0.32812995, -0.33105364, -0.3263758 ],\n",
              "           [-0.33584198, -0.33530462, -0.33610886, -0.33465132],\n",
              "           [-0.3342389 , -0.32635358, -0.32962376, -0.32441893],\n",
              "           [-0.33620137, -0.3322255 , -0.33418033, -0.3309755 ]]],      dtype=float32)]],\n",
              " [[2, 12, 19], [3, 8, 18], [5, 11, 16], [1, 10, 15]])"
            ]
          },
          "execution_count": 15,
          "metadata": {},
          "output_type": "execute_result"
        }
      ],
      "source": [
        "_anant_train_generator_allencahnNd_collocation(4, [jax.random.PRNGKey(444),jax.random.PRNGKey(44334),jax.random.PRNGKey(4443),jax.random.PRNGKey(333),], 7, 14)"
      ]
    },
    {
      "cell_type": "code",
      "execution_count": 16,
      "metadata": {
        "id": "UrSXkLCZ474C"
      },
      "outputs": [],
      "source": [
        "def _anant_train_generator_allencahnNd_collocation_(nxy, key, ninputs, seed):\n",
        "    '''\n",
        "    factor = -1,1: Boudnary points\n",
        "    factor != -1,1: Interior points\n",
        "    '''\n",
        "\n",
        "    data = []\n",
        "    dim_list = []\n",
        "\n",
        "    ndims = 3*ninputs\n",
        "    lst = list(np.arange(0,ndims,1))\n",
        "\n",
        "    seeds = np.arange(0,len(key),1)\n",
        "\n",
        "    # dimension sampler\n",
        "    gen = generate_dims(seed, ndims, len(key))\n",
        "\n",
        "    # collocation points\n",
        "    for j,(dims,factor) in enumerate(gen):\n",
        "\n",
        "      keys = jax.random.split(key[j], 3)\n",
        "      data_temp = []\n",
        "      dim_list.append(dims)\n",
        "\n",
        "      c1 = jnp.ones((ninputs, nxy))*factor\n",
        "      c2 = jnp.ones((ninputs, nxy))*factor\n",
        "      c3 = jnp.ones((ninputs, nxy))*factor\n",
        "\n",
        "      # collocation points\n",
        "      c1_temp = jax.random.uniform(keys[0], (nxy,), minval=-1.0, maxval=1.0)\n",
        "      c2_temp = jax.random.uniform(keys[1], (nxy,), minval=-1.0, maxval=1.0)\n",
        "      c3_temp = jax.random.uniform(keys[2], (nxy,), minval=-1.0, maxval=1.0)\n",
        "\n",
        "      # source term\n",
        "      c1m, c2m, c3m = jnp.meshgrid(c1_temp, c2_temp, c3_temp, indexing='ij')\n",
        "\n",
        "      index_batch = [dims[0], dims[1], dims[2]]\n",
        "      idx1 = (index_batch[0] != np.array(lst)).ravel()\n",
        "      idx2 = (index_batch[1] != np.array(lst)).ravel()\n",
        "      idx3 = (index_batch[2] != np.array(lst)).ravel()\n",
        "      fixed_batch = np.argwhere(idx1*idx2*idx3 == True).ravel()\n",
        "\n",
        "      uc = allencahnNd_source_term_(index_batch, fixed_batch, [c1m, c2m, c3m], factor)\n",
        "      u_gt = allencahnNd_exact_u_(index_batch, fixed_batch, [c1m, c2m, c3m], factor, random_test=False)\n",
        "\n",
        "      c1 = c1.at[dims[0],:].set(c1_temp)\n",
        "      c2 = c2.at[dims[1]-(1*ninputs),:].set(c2_temp)\n",
        "      c3 = c3.at[dims[2]-(2*ninputs),:].set(c3_temp)\n",
        "\n",
        "      c1, c2, c3 = c1.T, c2.T, c3.T\n",
        "\n",
        "      c11 = c1[:, :dims[0]]\n",
        "      c12 = c1[:, dims[0]].reshape(-1,1)\n",
        "      c13 = c1[:, dims[0]+1:]\n",
        "\n",
        "      c21 = c2[:, :dims[1]-(1*ninputs)]\n",
        "      c22 = c2[:, dims[1]-(1*ninputs)].reshape(-1,1)\n",
        "      c23 = c2[:, dims[1]-(1*ninputs)+1:]\n",
        "\n",
        "      c31 = c3[:, :dims[2]-(2*ninputs)]\n",
        "      c32 = c3[:, dims[2]-(2*ninputs)].reshape(-1,1)\n",
        "      c33 = c3[:, dims[2]-(2*ninputs)+1:]\n",
        "\n",
        "      data.append([[c11, c12, c13], [c21, c22, c23], [c31, c32, c33], uc, u_gt])\n",
        "\n",
        "    return data, dim_list"
      ]
    },
    {
      "cell_type": "markdown",
      "metadata": {
        "id": "8r5ubgXiMZnv"
      },
      "source": [
        "### Boundary Data"
      ]
    },
    {
      "cell_type": "code",
      "execution_count": 17,
      "metadata": {
        "id": "diRmIzTe2_1U"
      },
      "outputs": [],
      "source": [
        "def allencahnNd_exact_u_bound_(index_batch, fixed_batch, X, fX):\n",
        "\n",
        "    uxx = jnp.zeros_like(X[0])\n",
        "\n",
        "    ndims = len(index_batch) + len(fixed_batch)\n",
        "    X_tot = []\n",
        "    for i in range(ndims):\n",
        "      if i in index_batch:\n",
        "        id = np.argwhere(np.array(index_batch) == i).ravel()[0]\n",
        "        X_tot.append(X[id])\n",
        "      else:\n",
        "        id = np.argwhere(np.array(fixed_batch) == i).ravel()[0]\n",
        "        X_tot.append(fX[id] * jnp.ones_like(X[0]))\n",
        "    ############ Exact solution ##########\n",
        "    key = jax.random.PRNGKey(444)\n",
        "    exact = jnp.zeros_like(X_tot[0])\n",
        "\n",
        "    for i in range(ndims):\n",
        "      exact += X_tot[i]\n",
        "\n",
        "    exact = 1/ndims * exact\n",
        "    exact = exact**2 + jnp.sin(exact)\n",
        "\n",
        "    del X_tot\n",
        "    return jnp.atleast_3d(exact)\n",
        "\n",
        "\n",
        "\n",
        "def allencahnNd_source_term_bound_(index_batch, fixed_batch, X, fX):\n",
        "\n",
        "    f = jnp.zeros_like(X[0])\n",
        "\n",
        "    ndims = len(index_batch) + len(fixed_batch)\n",
        "    X_tot = []\n",
        "    for i in range(ndims):\n",
        "      if i in index_batch:\n",
        "        id = np.argwhere(np.array(index_batch) == i).ravel()[0]\n",
        "        X_tot.append(X[id])\n",
        "      else:\n",
        "        id = np.argwhere(np.array(fixed_batch) == i).ravel()[0]\n",
        "        X_tot.append(fX[id] * jnp.ones_like(X[0]))\n",
        "\n",
        "    v = jnp.ones(X_tot[0].shape)\n",
        "    f = jnp.zeros(X_tot[0].shape)\n",
        "\n",
        "    for i in range(ndims):\n",
        "      f += X_tot[i]\n",
        "\n",
        "    f = 1/ndims * f\n",
        "    f = (1/ndims)*(jnp.sin(f) - 2.)\n",
        "\n",
        "    del X_tot\n",
        "    return f\n",
        "\n",
        "def _anant_train_generator_allencahnNd_boundary(nxy, key, ninputs):\n",
        "    '''\n",
        "    factor = -1,1: Boudnary points\n",
        "    factor != -1,1: Interior points\n",
        "    '''\n",
        "\n",
        "    data = []\n",
        "    dim_list = []\n",
        "    ndims = 3*ninputs\n",
        "\n",
        "    lst = list(np.arange(0,ndims,1))\n",
        "\n",
        "    seeds = np.arange(1,len(key)+1,1)\n",
        "\n",
        "    # dimension sampler for boundary points\n",
        "    gen = generate_dims(444, ndims, len(key), bound = True)\n",
        "\n",
        "    # collocation points\n",
        "    for j,(dims,factor) in enumerate(gen):\n",
        "      keys = jax.random.split(key[j], 3)\n",
        "      data_temp = []\n",
        "      dim_list.append(dims)\n",
        "\n",
        "      #################################################### Boundary points ###############################################\n",
        "      c1_temp = jax.random.uniform(keys[0], (nxy,), minval=-1.0, maxval=1.0)\n",
        "      c2_temp = jax.random.uniform(keys[1], (nxy,), minval=-1.0, maxval=1.0)\n",
        "      c3_temp = jax.random.uniform(keys[2], (nxy,), minval=-1.0, maxval=1.0)\n",
        "\n",
        "      c1m, c2m, c3m = jnp.meshgrid(c1_temp, c2_temp, c3_temp, indexing='ij')\n",
        "\n",
        "      index_batch = [dims[0], dims[1], dims[2]]\n",
        "      idx1 = (index_batch[0] != np.array(lst)).ravel()\n",
        "      idx2 = (index_batch[1] != np.array(lst)).ravel()\n",
        "      idx3 = (index_batch[2] != np.array(lst)).ravel()\n",
        "      fixed_batch = np.argwhere(idx1*idx2*idx3 == True).ravel()\n",
        "\n",
        "      np.random.seed(44+np.random.randint(1000)*j)\n",
        "      f1 = list(np.random.choice(np.arange(-1.,2.,2.),ninputs))\n",
        "      id = np.random.permutation(np.arange(ninputs))[:ninputs-1]\n",
        "      for i in id:\n",
        "        f1[i] = np.random.choice(np.arange(-0.8,0.95,0.1)).round(2)\n",
        "      bs = [jnp.ones((nxy,))*f1[i] for i in range(ninputs)]\n",
        "      b1 = jnp.stack(bs)\n",
        "\n",
        "\n",
        "      np.random.seed(444+np.random.randint(1000)*j)\n",
        "      f2 = list(np.random.choice(np.arange(-1.,2.,2.),ninputs))\n",
        "      id = np.random.permutation(np.arange(ninputs))[:ninputs-1]\n",
        "      for i in id:\n",
        "        f2[i] = np.random.choice(np.arange(-0.8,0.95,0.1)).round(2)\n",
        "      bs = [jnp.ones((nxy,))*f2[i] for i in range(ninputs)]\n",
        "      b2 = jnp.stack(bs)\n",
        "\n",
        "      np.random.seed(4444+np.random.randint(1000)*j)\n",
        "      f3 = list(np.random.choice(np.arange(-1.,2.,2.),ninputs))\n",
        "      id = np.random.permutation(np.arange(ninputs))[:ninputs-1]\n",
        "      for i in id:\n",
        "        f3[i] = np.random.choice(np.arange(-0.8,0.95,0.1)).round(2)\n",
        "      bs = [jnp.ones((nxy,))*f3[i] for i in range(ninputs)]\n",
        "      b3 = jnp.stack(bs)\n",
        "\n",
        "      f1.pop(dims[0])\n",
        "      f2.pop(dims[1]-(1*ninputs))\n",
        "      f3.pop(dims[2]-(2*ninputs))\n",
        "\n",
        "      f = [f1, f2, f3]\n",
        "      factor = [fi for i in range(3) for fi in f[i]]\n",
        "      del f\n",
        "\n",
        "      ub = allencahnNd_exact_u_bound_(index_batch, fixed_batch, [c1m, c2m, c3m], factor)\n",
        "      u_gt = allencahnNd_source_term_bound_(index_batch, fixed_batch, [c1m, c2m, c3m], factor)\n",
        "\n",
        "      b1 = b1.at[dims[0],:].set(c1_temp)\n",
        "      b2 = b2.at[dims[1]-(1*ninputs),:].set(c2_temp)\n",
        "      b3 = b3.at[dims[2]-(2*ninputs),:].set(c3_temp)\n",
        "\n",
        "      b1, b2, b3 = b1.T, b2.T, b3.T\n",
        "\n",
        "      b11 = b1[:, :dims[0]]\n",
        "      b12 = b1[:, dims[0]].reshape(-1,1)\n",
        "      b13 = b1[:, dims[0]+1:]\n",
        "\n",
        "      b21 = b2[:, :dims[1]-(1*ninputs)]\n",
        "      b22 = b2[:, dims[1]-(1*ninputs)].reshape(-1,1)\n",
        "      b23 = b2[:, dims[1]-(1*ninputs)+1:]\n",
        "\n",
        "      b31 = b3[:, :dims[2]-(2*ninputs)]\n",
        "      b32 = b3[:, dims[2]-(2*ninputs)].reshape(-1,1)\n",
        "      b33 = b3[:, dims[2]-(2*ninputs)+1:]\n",
        "\n",
        "      data.append([[b11, b12, b13], [b21, b22, b23], [b31, b32, b33], ub, u_gt])\n",
        "\n",
        "    return data, dim_list"
      ]
    },
    {
      "cell_type": "code",
      "execution_count": 18,
      "metadata": {
        "colab": {
          "base_uri": "https://localhost:8080/"
        },
        "id": "fd5tjsGggzCV",
        "outputId": "44f5c62b-2d23-4eef-bf38-6a157c67f4ef"
      },
      "outputs": [
        {
          "data": {
            "text/plain": [
              "([[[Array([[ 0.9,  0.4, -0.8,  0.7,  0.5, -0.6,  0.2,  0.1, -0. , -0.8,  0.2,\n",
              "            -0.8, -0. ,  0.9,  0.9, -0.8, -0.8, -0.6, -0.7, -0.5,  0.5, -0.4,\n",
              "            -0.2,  0.4,  0.8, -0.3, -0. , -0.6,  0.1, -0.7, -0. ,  0.2, -0.7,\n",
              "            -0.3, -0.6, -0.4,  0.8,  0.8, -0.8,  0.9,  0.3,  0.7, -0. , -0.8,\n",
              "            -0.3,  0.1, -0. ,  0.8, -0.3, -0.4,  0.6,  0.6, -0. ,  0.7,  0.1,\n",
              "             0.7, -0. ,  0.9, -0.5,  0.7,  0.3, -0.1,  0.2, -0.3,  0.2,  0.4,\n",
              "            -0.7,  0.3, -0.2,  0.9,  0.8, -0.8,  0.4,  0.7],\n",
              "           [ 0.9,  0.4, -0.8,  0.7,  0.5, -0.6,  0.2,  0.1, -0. , -0.8,  0.2,\n",
              "            -0.8, -0. ,  0.9,  0.9, -0.8, -0.8, -0.6, -0.7, -0.5,  0.5, -0.4,\n",
              "            -0.2,  0.4,  0.8, -0.3, -0. , -0.6,  0.1, -0.7, -0. ,  0.2, -0.7,\n",
              "            -0.3, -0.6, -0.4,  0.8,  0.8, -0.8,  0.9,  0.3,  0.7, -0. , -0.8,\n",
              "            -0.3,  0.1, -0. ,  0.8, -0.3, -0.4,  0.6,  0.6, -0. ,  0.7,  0.1,\n",
              "             0.7, -0. ,  0.9, -0.5,  0.7,  0.3, -0.1,  0.2, -0.3,  0.2,  0.4,\n",
              "            -0.7,  0.3, -0.2,  0.9,  0.8, -0.8,  0.4,  0.7],\n",
              "           [ 0.9,  0.4, -0.8,  0.7,  0.5, -0.6,  0.2,  0.1, -0. , -0.8,  0.2,\n",
              "            -0.8, -0. ,  0.9,  0.9, -0.8, -0.8, -0.6, -0.7, -0.5,  0.5, -0.4,\n",
              "            -0.2,  0.4,  0.8, -0.3, -0. , -0.6,  0.1, -0.7, -0. ,  0.2, -0.7,\n",
              "            -0.3, -0.6, -0.4,  0.8,  0.8, -0.8,  0.9,  0.3,  0.7, -0. , -0.8,\n",
              "            -0.3,  0.1, -0. ,  0.8, -0.3, -0.4,  0.6,  0.6, -0. ,  0.7,  0.1,\n",
              "             0.7, -0. ,  0.9, -0.5,  0.7,  0.3, -0.1,  0.2, -0.3,  0.2,  0.4,\n",
              "            -0.7,  0.3, -0.2,  0.9,  0.8, -0.8,  0.4,  0.7],\n",
              "           [ 0.9,  0.4, -0.8,  0.7,  0.5, -0.6,  0.2,  0.1, -0. , -0.8,  0.2,\n",
              "            -0.8, -0. ,  0.9,  0.9, -0.8, -0.8, -0.6, -0.7, -0.5,  0.5, -0.4,\n",
              "            -0.2,  0.4,  0.8, -0.3, -0. , -0.6,  0.1, -0.7, -0. ,  0.2, -0.7,\n",
              "            -0.3, -0.6, -0.4,  0.8,  0.8, -0.8,  0.9,  0.3,  0.7, -0. , -0.8,\n",
              "            -0.3,  0.1, -0. ,  0.8, -0.3, -0.4,  0.6,  0.6, -0. ,  0.7,  0.1,\n",
              "             0.7, -0. ,  0.9, -0.5,  0.7,  0.3, -0.1,  0.2, -0.3,  0.2,  0.4,\n",
              "            -0.7,  0.3, -0.2,  0.9,  0.8, -0.8,  0.4,  0.7]], dtype=float32),\n",
              "    Array([[-0.4376738 ],\n",
              "           [ 0.42755318],\n",
              "           [ 0.14637709],\n",
              "           [-0.11809397]], dtype=float32),\n",
              "    Array([[-0.3, -0.8,  0.2, -0.7,  0.1,  0.5, -0.8, -0.8,  0.7,  0.8, -0.7,\n",
              "            -0.1, -0.2, -0.6,  0.9,  0.5, -0.5,  0.5, -0.1, -0.1,  0.7, -0.4,\n",
              "             0.7, -0.8,  1. ],\n",
              "           [-0.3, -0.8,  0.2, -0.7,  0.1,  0.5, -0.8, -0.8,  0.7,  0.8, -0.7,\n",
              "            -0.1, -0.2, -0.6,  0.9,  0.5, -0.5,  0.5, -0.1, -0.1,  0.7, -0.4,\n",
              "             0.7, -0.8,  1. ],\n",
              "           [-0.3, -0.8,  0.2, -0.7,  0.1,  0.5, -0.8, -0.8,  0.7,  0.8, -0.7,\n",
              "            -0.1, -0.2, -0.6,  0.9,  0.5, -0.5,  0.5, -0.1, -0.1,  0.7, -0.4,\n",
              "             0.7, -0.8,  1. ],\n",
              "           [-0.3, -0.8,  0.2, -0.7,  0.1,  0.5, -0.8, -0.8,  0.7,  0.8, -0.7,\n",
              "            -0.1, -0.2, -0.6,  0.9,  0.5, -0.5,  0.5, -0.1, -0.1,  0.7, -0.4,\n",
              "             0.7, -0.8,  1. ]], dtype=float32)],\n",
              "   [Array([[0.2, 0.7, 0.8, 0.4, 0.8],\n",
              "           [0.2, 0.7, 0.8, 0.4, 0.8],\n",
              "           [0.2, 0.7, 0.8, 0.4, 0.8],\n",
              "           [0.2, 0.7, 0.8, 0.4, 0.8]], dtype=float32),\n",
              "    Array([[-0.6865864 ],\n",
              "           [-0.76568747],\n",
              "           [-0.6264143 ],\n",
              "           [ 0.75231457]], dtype=float32),\n",
              "    Array([[-0.5,  0.3, -0.7,  0.6, -0.6,  0.4,  0.5,  0.2,  0.4,  0.4, -0.1,\n",
              "            -0. , -1. , -0.7, -0.2, -0.6,  0.1,  0.4, -0.5, -0.7, -0.5,  0.4,\n",
              "             0.8, -0.5, -0.2,  0.4,  0.3, -0.6, -0.4,  0.2, -0. , -0. , -0.2,\n",
              "             0.4, -0.2,  0.9,  0.4,  0.2,  0.1, -0.7,  0.1,  0.5, -0.8,  0.7,\n",
              "            -0.4, -0.3,  0.8,  0.2, -0.4, -0.6,  0.2, -0.6, -0.4, -0.2, -0.7,\n",
              "            -0.8, -0.7,  0.7,  0.5, -0.7, -0.4,  0.9,  0.7,  0.8,  0.8, -0.7,\n",
              "             0.3, -0.3, -0.4,  0.1, -0.2, -0.7,  0.1,  0.6, -0.7, -0.2, -0.1,\n",
              "            -0.2, -0.8, -0.4, -0.2,  0.3,  0.2, -0.1, -0.8,  0.3,  0.3,  0.7,\n",
              "             0.5,  0.8,  0.7,  0.7, -0.4,  0.7],\n",
              "           [-0.5,  0.3, -0.7,  0.6, -0.6,  0.4,  0.5,  0.2,  0.4,  0.4, -0.1,\n",
              "            -0. , -1. , -0.7, -0.2, -0.6,  0.1,  0.4, -0.5, -0.7, -0.5,  0.4,\n",
              "             0.8, -0.5, -0.2,  0.4,  0.3, -0.6, -0.4,  0.2, -0. , -0. , -0.2,\n",
              "             0.4, -0.2,  0.9,  0.4,  0.2,  0.1, -0.7,  0.1,  0.5, -0.8,  0.7,\n",
              "            -0.4, -0.3,  0.8,  0.2, -0.4, -0.6,  0.2, -0.6, -0.4, -0.2, -0.7,\n",
              "            -0.8, -0.7,  0.7,  0.5, -0.7, -0.4,  0.9,  0.7,  0.8,  0.8, -0.7,\n",
              "             0.3, -0.3, -0.4,  0.1, -0.2, -0.7,  0.1,  0.6, -0.7, -0.2, -0.1,\n",
              "            -0.2, -0.8, -0.4, -0.2,  0.3,  0.2, -0.1, -0.8,  0.3,  0.3,  0.7,\n",
              "             0.5,  0.8,  0.7,  0.7, -0.4,  0.7],\n",
              "           [-0.5,  0.3, -0.7,  0.6, -0.6,  0.4,  0.5,  0.2,  0.4,  0.4, -0.1,\n",
              "            -0. , -1. , -0.7, -0.2, -0.6,  0.1,  0.4, -0.5, -0.7, -0.5,  0.4,\n",
              "             0.8, -0.5, -0.2,  0.4,  0.3, -0.6, -0.4,  0.2, -0. , -0. , -0.2,\n",
              "             0.4, -0.2,  0.9,  0.4,  0.2,  0.1, -0.7,  0.1,  0.5, -0.8,  0.7,\n",
              "            -0.4, -0.3,  0.8,  0.2, -0.4, -0.6,  0.2, -0.6, -0.4, -0.2, -0.7,\n",
              "            -0.8, -0.7,  0.7,  0.5, -0.7, -0.4,  0.9,  0.7,  0.8,  0.8, -0.7,\n",
              "             0.3, -0.3, -0.4,  0.1, -0.2, -0.7,  0.1,  0.6, -0.7, -0.2, -0.1,\n",
              "            -0.2, -0.8, -0.4, -0.2,  0.3,  0.2, -0.1, -0.8,  0.3,  0.3,  0.7,\n",
              "             0.5,  0.8,  0.7,  0.7, -0.4,  0.7],\n",
              "           [-0.5,  0.3, -0.7,  0.6, -0.6,  0.4,  0.5,  0.2,  0.4,  0.4, -0.1,\n",
              "            -0. , -1. , -0.7, -0.2, -0.6,  0.1,  0.4, -0.5, -0.7, -0.5,  0.4,\n",
              "             0.8, -0.5, -0.2,  0.4,  0.3, -0.6, -0.4,  0.2, -0. , -0. , -0.2,\n",
              "             0.4, -0.2,  0.9,  0.4,  0.2,  0.1, -0.7,  0.1,  0.5, -0.8,  0.7,\n",
              "            -0.4, -0.3,  0.8,  0.2, -0.4, -0.6,  0.2, -0.6, -0.4, -0.2, -0.7,\n",
              "            -0.8, -0.7,  0.7,  0.5, -0.7, -0.4,  0.9,  0.7,  0.8,  0.8, -0.7,\n",
              "             0.3, -0.3, -0.4,  0.1, -0.2, -0.7,  0.1,  0.6, -0.7, -0.2, -0.1,\n",
              "            -0.2, -0.8, -0.4, -0.2,  0.3,  0.2, -0.1, -0.8,  0.3,  0.3,  0.7,\n",
              "             0.5,  0.8,  0.7,  0.7, -0.4,  0.7]], dtype=float32)],\n",
              "   [Array([[-0.3,  0.9,  0.7,  0.5, -0.5,  0.5, -0.8, -0.3,  0.7, -0.6,  0.2,\n",
              "             0.5,  0.8, -0.3,  0.1,  0.7,  0.7,  0.6, -0.4,  0.5,  0.2, -0.1,\n",
              "             0.2,  0.2, -0.7, -0.6,  0.3,  0.2, -0.5, -0. , -0. , -0.3, -0.2,\n",
              "            -0.4, -0.4,  0.8, -0.6, -0.6,  0.9,  0.3,  0.7, -0. , -0.5, -0.7,\n",
              "            -0.7,  0.2, -0.1,  0.1,  0.1, -0.1,  0.5,  0.3, -0.6,  0.6,  0.8,\n",
              "            -0.7,  0.5, -0. ,  0.3,  0.6, -0.3,  0.7,  0.6,  0.4],\n",
              "           [-0.3,  0.9,  0.7,  0.5, -0.5,  0.5, -0.8, -0.3,  0.7, -0.6,  0.2,\n",
              "             0.5,  0.8, -0.3,  0.1,  0.7,  0.7,  0.6, -0.4,  0.5,  0.2, -0.1,\n",
              "             0.2,  0.2, -0.7, -0.6,  0.3,  0.2, -0.5, -0. , -0. , -0.3, -0.2,\n",
              "            -0.4, -0.4,  0.8, -0.6, -0.6,  0.9,  0.3,  0.7, -0. , -0.5, -0.7,\n",
              "            -0.7,  0.2, -0.1,  0.1,  0.1, -0.1,  0.5,  0.3, -0.6,  0.6,  0.8,\n",
              "            -0.7,  0.5, -0. ,  0.3,  0.6, -0.3,  0.7,  0.6,  0.4],\n",
              "           [-0.3,  0.9,  0.7,  0.5, -0.5,  0.5, -0.8, -0.3,  0.7, -0.6,  0.2,\n",
              "             0.5,  0.8, -0.3,  0.1,  0.7,  0.7,  0.6, -0.4,  0.5,  0.2, -0.1,\n",
              "             0.2,  0.2, -0.7, -0.6,  0.3,  0.2, -0.5, -0. , -0. , -0.3, -0.2,\n",
              "            -0.4, -0.4,  0.8, -0.6, -0.6,  0.9,  0.3,  0.7, -0. , -0.5, -0.7,\n",
              "            -0.7,  0.2, -0.1,  0.1,  0.1, -0.1,  0.5,  0.3, -0.6,  0.6,  0.8,\n",
              "            -0.7,  0.5, -0. ,  0.3,  0.6, -0.3,  0.7,  0.6,  0.4],\n",
              "           [-0.3,  0.9,  0.7,  0.5, -0.5,  0.5, -0.8, -0.3,  0.7, -0.6,  0.2,\n",
              "             0.5,  0.8, -0.3,  0.1,  0.7,  0.7,  0.6, -0.4,  0.5,  0.2, -0.1,\n",
              "             0.2,  0.2, -0.7, -0.6,  0.3,  0.2, -0.5, -0. , -0. , -0.3, -0.2,\n",
              "            -0.4, -0.4,  0.8, -0.6, -0.6,  0.9,  0.3,  0.7, -0. , -0.5, -0.7,\n",
              "            -0.7,  0.2, -0.1,  0.1,  0.1, -0.1,  0.5,  0.3, -0.6,  0.6,  0.8,\n",
              "            -0.7,  0.5, -0. ,  0.3,  0.6, -0.3,  0.7,  0.6,  0.4]],      dtype=float32),\n",
              "    Array([[ 0.08064222],\n",
              "           [-0.8096907 ],\n",
              "           [ 0.17898488],\n",
              "           [-0.45080614]], dtype=float32),\n",
              "    Array([[-0. ,  0.6,  0.5,  0.4,  0.2,  0.4, -0.5, -0.3,  0.3, -0.5, -0.8,\n",
              "            -0.6,  0.3, -0.4,  0.2,  0.9,  0.4,  0.2, -0.6, -0.7,  0.3, -0.1,\n",
              "             0.1, -0.5,  0.8, -1. , -0.7,  0.4, -0.2,  0.5,  0.9,  0.5, -0.5,\n",
              "             0.1,  0.4],\n",
              "           [-0. ,  0.6,  0.5,  0.4,  0.2,  0.4, -0.5, -0.3,  0.3, -0.5, -0.8,\n",
              "            -0.6,  0.3, -0.4,  0.2,  0.9,  0.4,  0.2, -0.6, -0.7,  0.3, -0.1,\n",
              "             0.1, -0.5,  0.8, -1. , -0.7,  0.4, -0.2,  0.5,  0.9,  0.5, -0.5,\n",
              "             0.1,  0.4],\n",
              "           [-0. ,  0.6,  0.5,  0.4,  0.2,  0.4, -0.5, -0.3,  0.3, -0.5, -0.8,\n",
              "            -0.6,  0.3, -0.4,  0.2,  0.9,  0.4,  0.2, -0.6, -0.7,  0.3, -0.1,\n",
              "             0.1, -0.5,  0.8, -1. , -0.7,  0.4, -0.2,  0.5,  0.9,  0.5, -0.5,\n",
              "             0.1,  0.4],\n",
              "           [-0. ,  0.6,  0.5,  0.4,  0.2,  0.4, -0.5, -0.3,  0.3, -0.5, -0.8,\n",
              "            -0.6,  0.3, -0.4,  0.2,  0.9,  0.4,  0.2, -0.6, -0.7,  0.3, -0.1,\n",
              "             0.1, -0.5,  0.8, -1. , -0.7,  0.4, -0.2,  0.5,  0.9,  0.5, -0.5,\n",
              "             0.1,  0.4]], dtype=float32)],\n",
              "   Array([[[0.03641886, 0.03325272, 0.03676964, 0.03452688],\n",
              "           [0.03613687, 0.03297226, 0.03648748, 0.0342458 ],\n",
              "           [0.03663346, 0.03346615, 0.03698437, 0.03474078],\n",
              "           [0.04157236, 0.03837826, 0.04192622, 0.03966369]],\n",
              "   \n",
              "          [[0.0395123 , 0.03632935, 0.03986494, 0.03761028],\n",
              "           [0.03922881, 0.0360474 , 0.03958128, 0.03732771],\n",
              "           [0.03972805, 0.03654392, 0.04008082, 0.03782533],\n",
              "           [0.04469293, 0.04148205, 0.04504865, 0.04277425]],\n",
              "   \n",
              "          [[0.03850523, 0.03532773, 0.03885726, 0.03660647],\n",
              "           [0.03822222, 0.03504626, 0.03857408, 0.03632438],\n",
              "           [0.0387206 , 0.03554193, 0.03907276, 0.03682115],\n",
              "           [0.04367704, 0.04047162, 0.04403215, 0.04176161]],\n",
              "   \n",
              "          [[0.03755955, 0.0343872 , 0.03791102, 0.03566386],\n",
              "           [0.03727701, 0.03410619, 0.0376283 , 0.03538223],\n",
              "           [0.03777457, 0.03460105, 0.03812617, 0.03587818],\n",
              "           [0.04272308, 0.03952278, 0.04307763, 0.04081071]]], dtype=float32),\n",
              "   Array([[[-0.0065494 , -0.00655928, -0.00654831, -0.0065553 ],\n",
              "           [-0.00655028, -0.00656016, -0.00654918, -0.00655618],\n",
              "           [-0.00654873, -0.00655862, -0.00654764, -0.00655463],\n",
              "           [-0.00653342, -0.00654331, -0.00653233, -0.00653932]],\n",
              "   \n",
              "          [[-0.00653979, -0.00654968, -0.0065387 , -0.00654569],\n",
              "           [-0.00654067, -0.00655056, -0.00653958, -0.00654657],\n",
              "           [-0.00653912, -0.00654901, -0.00653803, -0.00654502],\n",
              "           [-0.00652382, -0.0065337 , -0.00652272, -0.00652972]],\n",
              "   \n",
              "          [[-0.00654291, -0.0065528 , -0.00654182, -0.00654881],\n",
              "           [-0.00654379, -0.00655368, -0.0065427 , -0.00654969],\n",
              "           [-0.00654224, -0.00655213, -0.00654115, -0.00654815],\n",
              "           [-0.00652694, -0.00653682, -0.00652585, -0.00653284]],\n",
              "   \n",
              "          [[-0.00654585, -0.00655574, -0.00654476, -0.00655175],\n",
              "           [-0.00654673, -0.00655661, -0.00654564, -0.00655263],\n",
              "           [-0.00654518, -0.00655507, -0.00654409, -0.00655108],\n",
              "           [-0.00652987, -0.00653976, -0.00652878, -0.00653577]]],      dtype=float32)],\n",
              "  [[Array([[-0.7, -0.4,  0.3,  0.4,  0.2, -0.1,  0.3, -0.5, -0.1,  0.7,  0.9,\n",
              "             0.9,  0.1,  0.2,  0.9, -0.6,  0.6, -0. ,  0.4, -0.7,  0.9,  0.1,\n",
              "            -0.6,  0.8,  0.7, -0.5, -0. ,  0.7,  0.6, -0.6, -0.7, -0.7, -0.7,\n",
              "            -0.2, -0.5, -0.3,  0.9,  0.4, -0.8, -0.8, -0.7,  0.4, -0.2, -0. ,\n",
              "             0.4, -0. , -0.1, -0.1, -0.2, -0.2, -0.5, -0.1,  0.7, -0.1,  0.7,\n",
              "            -0.4,  0.4, -0.6, -0.3,  0.8,  0.5, -1. , -0.8, -0.2, -0.2,  0.3,\n",
              "            -0.2,  0.9, -0.2, -0.8, -0.6,  0.3,  0.8, -0. , -0.6, -0.4, -0. ,\n",
              "            -0.6,  0.6,  0.2, -0. ],\n",
              "           [-0.7, -0.4,  0.3,  0.4,  0.2, -0.1,  0.3, -0.5, -0.1,  0.7,  0.9,\n",
              "             0.9,  0.1,  0.2,  0.9, -0.6,  0.6, -0. ,  0.4, -0.7,  0.9,  0.1,\n",
              "            -0.6,  0.8,  0.7, -0.5, -0. ,  0.7,  0.6, -0.6, -0.7, -0.7, -0.7,\n",
              "            -0.2, -0.5, -0.3,  0.9,  0.4, -0.8, -0.8, -0.7,  0.4, -0.2, -0. ,\n",
              "             0.4, -0. , -0.1, -0.1, -0.2, -0.2, -0.5, -0.1,  0.7, -0.1,  0.7,\n",
              "            -0.4,  0.4, -0.6, -0.3,  0.8,  0.5, -1. , -0.8, -0.2, -0.2,  0.3,\n",
              "            -0.2,  0.9, -0.2, -0.8, -0.6,  0.3,  0.8, -0. , -0.6, -0.4, -0. ,\n",
              "            -0.6,  0.6,  0.2, -0. ],\n",
              "           [-0.7, -0.4,  0.3,  0.4,  0.2, -0.1,  0.3, -0.5, -0.1,  0.7,  0.9,\n",
              "             0.9,  0.1,  0.2,  0.9, -0.6,  0.6, -0. ,  0.4, -0.7,  0.9,  0.1,\n",
              "            -0.6,  0.8,  0.7, -0.5, -0. ,  0.7,  0.6, -0.6, -0.7, -0.7, -0.7,\n",
              "            -0.2, -0.5, -0.3,  0.9,  0.4, -0.8, -0.8, -0.7,  0.4, -0.2, -0. ,\n",
              "             0.4, -0. , -0.1, -0.1, -0.2, -0.2, -0.5, -0.1,  0.7, -0.1,  0.7,\n",
              "            -0.4,  0.4, -0.6, -0.3,  0.8,  0.5, -1. , -0.8, -0.2, -0.2,  0.3,\n",
              "            -0.2,  0.9, -0.2, -0.8, -0.6,  0.3,  0.8, -0. , -0.6, -0.4, -0. ,\n",
              "            -0.6,  0.6,  0.2, -0. ],\n",
              "           [-0.7, -0.4,  0.3,  0.4,  0.2, -0.1,  0.3, -0.5, -0.1,  0.7,  0.9,\n",
              "             0.9,  0.1,  0.2,  0.9, -0.6,  0.6, -0. ,  0.4, -0.7,  0.9,  0.1,\n",
              "            -0.6,  0.8,  0.7, -0.5, -0. ,  0.7,  0.6, -0.6, -0.7, -0.7, -0.7,\n",
              "            -0.2, -0.5, -0.3,  0.9,  0.4, -0.8, -0.8, -0.7,  0.4, -0.2, -0. ,\n",
              "             0.4, -0. , -0.1, -0.1, -0.2, -0.2, -0.5, -0.1,  0.7, -0.1,  0.7,\n",
              "            -0.4,  0.4, -0.6, -0.3,  0.8,  0.5, -1. , -0.8, -0.2, -0.2,  0.3,\n",
              "            -0.2,  0.9, -0.2, -0.8, -0.6,  0.3,  0.8, -0. , -0.6, -0.4, -0. ,\n",
              "            -0.6,  0.6,  0.2, -0. ]], dtype=float32),\n",
              "    Array([[-0.98189783],\n",
              "           [ 0.8204565 ],\n",
              "           [ 0.4572053 ],\n",
              "           [-0.86304784]], dtype=float32),\n",
              "    Array([[-0.1, -0.8,  0.6,  0.3,  0.1, -0. ,  0.5, -0.6, -0.7,  0.7, -0.3,\n",
              "             0.8, -0.6,  0.9,  0.6,  0.4, -0.8, -0.7],\n",
              "           [-0.1, -0.8,  0.6,  0.3,  0.1, -0. ,  0.5, -0.6, -0.7,  0.7, -0.3,\n",
              "             0.8, -0.6,  0.9,  0.6,  0.4, -0.8, -0.7],\n",
              "           [-0.1, -0.8,  0.6,  0.3,  0.1, -0. ,  0.5, -0.6, -0.7,  0.7, -0.3,\n",
              "             0.8, -0.6,  0.9,  0.6,  0.4, -0.8, -0.7],\n",
              "           [-0.1, -0.8,  0.6,  0.3,  0.1, -0. ,  0.5, -0.6, -0.7,  0.7, -0.3,\n",
              "             0.8, -0.6,  0.9,  0.6,  0.4, -0.8, -0.7]], dtype=float32)],\n",
              "   [Array([[ 0.8, -0.7,  0.7, -0.8, -0.2,  0.5,  0.1, -0.2,  0.9,  0.8,  0.8,\n",
              "            -0.6, -0.7,  0.8, -0.2,  0.9,  0.2,  0.6, -0.2, -0.4, -0.2, -0.7,\n",
              "            -0.6,  0.6,  0.2,  0.1, -0.5,  0.4, -0. ,  0.8,  0.7,  0.8, -0.3,\n",
              "            -0.1, -0.2,  0.6,  0.7,  0.4,  0.4,  0.4, -0.3,  0.7,  0.4,  0.2,\n",
              "            -0. ,  0.8, -0. , -0.7,  0.3,  0.1,  0.2, -0.6,  1. ,  0.5,  0.7,\n",
              "             0.4,  0.7,  0.2,  0.2,  0.9,  0.2, -0.6,  0.4,  0.2, -0. , -0.3,\n",
              "            -0.7, -0.2,  0.4, -0. , -0.2, -0.3,  0.7, -0.7,  0.2,  0.5, -0. ,\n",
              "            -0.1, -0.6,  0.2, -0.3, -0.1, -0.3,  0.6, -0.6, -0.8,  0.4,  0.5,\n",
              "             0.8,  0.4, -0.3, -0.7,  0.9,  0.5,  0.9],\n",
              "           [ 0.8, -0.7,  0.7, -0.8, -0.2,  0.5,  0.1, -0.2,  0.9,  0.8,  0.8,\n",
              "            -0.6, -0.7,  0.8, -0.2,  0.9,  0.2,  0.6, -0.2, -0.4, -0.2, -0.7,\n",
              "            -0.6,  0.6,  0.2,  0.1, -0.5,  0.4, -0. ,  0.8,  0.7,  0.8, -0.3,\n",
              "            -0.1, -0.2,  0.6,  0.7,  0.4,  0.4,  0.4, -0.3,  0.7,  0.4,  0.2,\n",
              "            -0. ,  0.8, -0. , -0.7,  0.3,  0.1,  0.2, -0.6,  1. ,  0.5,  0.7,\n",
              "             0.4,  0.7,  0.2,  0.2,  0.9,  0.2, -0.6,  0.4,  0.2, -0. , -0.3,\n",
              "            -0.7, -0.2,  0.4, -0. , -0.2, -0.3,  0.7, -0.7,  0.2,  0.5, -0. ,\n",
              "            -0.1, -0.6,  0.2, -0.3, -0.1, -0.3,  0.6, -0.6, -0.8,  0.4,  0.5,\n",
              "             0.8,  0.4, -0.3, -0.7,  0.9,  0.5,  0.9],\n",
              "           [ 0.8, -0.7,  0.7, -0.8, -0.2,  0.5,  0.1, -0.2,  0.9,  0.8,  0.8,\n",
              "            -0.6, -0.7,  0.8, -0.2,  0.9,  0.2,  0.6, -0.2, -0.4, -0.2, -0.7,\n",
              "            -0.6,  0.6,  0.2,  0.1, -0.5,  0.4, -0. ,  0.8,  0.7,  0.8, -0.3,\n",
              "            -0.1, -0.2,  0.6,  0.7,  0.4,  0.4,  0.4, -0.3,  0.7,  0.4,  0.2,\n",
              "            -0. ,  0.8, -0. , -0.7,  0.3,  0.1,  0.2, -0.6,  1. ,  0.5,  0.7,\n",
              "             0.4,  0.7,  0.2,  0.2,  0.9,  0.2, -0.6,  0.4,  0.2, -0. , -0.3,\n",
              "            -0.7, -0.2,  0.4, -0. , -0.2, -0.3,  0.7, -0.7,  0.2,  0.5, -0. ,\n",
              "            -0.1, -0.6,  0.2, -0.3, -0.1, -0.3,  0.6, -0.6, -0.8,  0.4,  0.5,\n",
              "             0.8,  0.4, -0.3, -0.7,  0.9,  0.5,  0.9],\n",
              "           [ 0.8, -0.7,  0.7, -0.8, -0.2,  0.5,  0.1, -0.2,  0.9,  0.8,  0.8,\n",
              "            -0.6, -0.7,  0.8, -0.2,  0.9,  0.2,  0.6, -0.2, -0.4, -0.2, -0.7,\n",
              "            -0.6,  0.6,  0.2,  0.1, -0.5,  0.4, -0. ,  0.8,  0.7,  0.8, -0.3,\n",
              "            -0.1, -0.2,  0.6,  0.7,  0.4,  0.4,  0.4, -0.3,  0.7,  0.4,  0.2,\n",
              "            -0. ,  0.8, -0. , -0.7,  0.3,  0.1,  0.2, -0.6,  1. ,  0.5,  0.7,\n",
              "             0.4,  0.7,  0.2,  0.2,  0.9,  0.2, -0.6,  0.4,  0.2, -0. , -0.3,\n",
              "            -0.7, -0.2,  0.4, -0. , -0.2, -0.3,  0.7, -0.7,  0.2,  0.5, -0. ,\n",
              "            -0.1, -0.6,  0.2, -0.3, -0.1, -0.3,  0.6, -0.6, -0.8,  0.4,  0.5,\n",
              "             0.8,  0.4, -0.3, -0.7,  0.9,  0.5,  0.9]], dtype=float32),\n",
              "    Array([[ 0.31219506],\n",
              "           [ 0.11097169],\n",
              "           [ 0.5340574 ],\n",
              "           [-0.3420527 ]], dtype=float32),\n",
              "    Array([[ 0.2,  0.6, -0. , -0. ],\n",
              "           [ 0.2,  0.6, -0. , -0. ],\n",
              "           [ 0.2,  0.6, -0. , -0. ],\n",
              "           [ 0.2,  0.6, -0. , -0. ]], dtype=float32)],\n",
              "   [Array([[ 0.4, -0.6,  0.4, -0.3, -0.6, -0.8,  0.7, -0.4,  0.9,  0.9,  0.1,\n",
              "            -0.2, -0.2, -0.1,  0.7,  0.6,  0.4, -0.1, -0.2],\n",
              "           [ 0.4, -0.6,  0.4, -0.3, -0.6, -0.8,  0.7, -0.4,  0.9,  0.9,  0.1,\n",
              "            -0.2, -0.2, -0.1,  0.7,  0.6,  0.4, -0.1, -0.2],\n",
              "           [ 0.4, -0.6,  0.4, -0.3, -0.6, -0.8,  0.7, -0.4,  0.9,  0.9,  0.1,\n",
              "            -0.2, -0.2, -0.1,  0.7,  0.6,  0.4, -0.1, -0.2],\n",
              "           [ 0.4, -0.6,  0.4, -0.3, -0.6, -0.8,  0.7, -0.4,  0.9,  0.9,  0.1,\n",
              "            -0.2, -0.2, -0.1,  0.7,  0.6,  0.4, -0.1, -0.2]], dtype=float32),\n",
              "    Array([[-0.49980354],\n",
              "           [ 0.6980226 ],\n",
              "           [-0.6882596 ],\n",
              "           [-0.775028  ]], dtype=float32),\n",
              "    Array([[-0.1, -0.8, -0.7, -1. , -0.7, -0.8, -0.8,  0.5, -0.5, -0.6, -0.4,\n",
              "             0.9, -0. ,  0.7,  0.5,  0.1,  0.6,  0.3,  0.7, -0.1, -0.6,  0.8,\n",
              "            -0.2, -0.2, -0.4, -0.4, -0.4,  0.2,  0.6,  0.7, -0.4, -0.6,  0.7,\n",
              "            -0.1,  0.4,  0.2, -0.5, -0. ,  0.4,  0.9, -0.6,  0.9,  0.4, -0.4,\n",
              "            -0.8,  0.5,  0.4, -0. , -0.7, -0.6, -0.2, -0.4,  0.8,  0.5, -0.8,\n",
              "             0.4,  0.9,  0.2, -0.1,  0.7,  0.1,  0.7, -0.7, -0.4, -0.2,  0.1,\n",
              "            -0.4,  0.4, -0.2, -0.3, -0. , -0.1, -0. ,  0.6,  0.8,  0.2,  0.2,\n",
              "            -0.3,  0.3,  0.2],\n",
              "           [-0.1, -0.8, -0.7, -1. , -0.7, -0.8, -0.8,  0.5, -0.5, -0.6, -0.4,\n",
              "             0.9, -0. ,  0.7,  0.5,  0.1,  0.6,  0.3,  0.7, -0.1, -0.6,  0.8,\n",
              "            -0.2, -0.2, -0.4, -0.4, -0.4,  0.2,  0.6,  0.7, -0.4, -0.6,  0.7,\n",
              "            -0.1,  0.4,  0.2, -0.5, -0. ,  0.4,  0.9, -0.6,  0.9,  0.4, -0.4,\n",
              "            -0.8,  0.5,  0.4, -0. , -0.7, -0.6, -0.2, -0.4,  0.8,  0.5, -0.8,\n",
              "             0.4,  0.9,  0.2, -0.1,  0.7,  0.1,  0.7, -0.7, -0.4, -0.2,  0.1,\n",
              "            -0.4,  0.4, -0.2, -0.3, -0. , -0.1, -0. ,  0.6,  0.8,  0.2,  0.2,\n",
              "            -0.3,  0.3,  0.2],\n",
              "           [-0.1, -0.8, -0.7, -1. , -0.7, -0.8, -0.8,  0.5, -0.5, -0.6, -0.4,\n",
              "             0.9, -0. ,  0.7,  0.5,  0.1,  0.6,  0.3,  0.7, -0.1, -0.6,  0.8,\n",
              "            -0.2, -0.2, -0.4, -0.4, -0.4,  0.2,  0.6,  0.7, -0.4, -0.6,  0.7,\n",
              "            -0.1,  0.4,  0.2, -0.5, -0. ,  0.4,  0.9, -0.6,  0.9,  0.4, -0.4,\n",
              "            -0.8,  0.5,  0.4, -0. , -0.7, -0.6, -0.2, -0.4,  0.8,  0.5, -0.8,\n",
              "             0.4,  0.9,  0.2, -0.1,  0.7,  0.1,  0.7, -0.7, -0.4, -0.2,  0.1,\n",
              "            -0.4,  0.4, -0.2, -0.3, -0. , -0.1, -0. ,  0.6,  0.8,  0.2,  0.2,\n",
              "            -0.3,  0.3,  0.2],\n",
              "           [-0.1, -0.8, -0.7, -1. , -0.7, -0.8, -0.8,  0.5, -0.5, -0.6, -0.4,\n",
              "             0.9, -0. ,  0.7,  0.5,  0.1,  0.6,  0.3,  0.7, -0.1, -0.6,  0.8,\n",
              "            -0.2, -0.2, -0.4, -0.4, -0.4,  0.2,  0.6,  0.7, -0.4, -0.6,  0.7,\n",
              "            -0.1,  0.4,  0.2, -0.5, -0. ,  0.4,  0.9, -0.6,  0.9,  0.4, -0.4,\n",
              "            -0.8,  0.5,  0.4, -0. , -0.7, -0.6, -0.2, -0.4,  0.8,  0.5, -0.8,\n",
              "             0.4,  0.9,  0.2, -0.1,  0.7,  0.1,  0.7, -0.7, -0.4, -0.2,  0.1,\n",
              "            -0.4,  0.4, -0.2, -0.3, -0. , -0.1, -0. ,  0.6,  0.8,  0.2,  0.2,\n",
              "            -0.3,  0.3,  0.2]], dtype=float32)],\n",
              "   Array([[[0.05332389, 0.05773244, 0.05263311, 0.05231532],\n",
              "           [0.05258634, 0.05698968, 0.05189638, 0.05157898],\n",
              "           [0.0541381 , 0.05855241, 0.05344642, 0.05312822],\n",
              "           [0.05092907, 0.05532066, 0.05024097, 0.04992441]],\n",
              "   \n",
              "          [[0.05996915, 0.06442434, 0.05927103, 0.05894986],\n",
              "           [0.05922376, 0.06367376, 0.05852646, 0.05820566],\n",
              "           [0.06079202, 0.06525294, 0.060093  , 0.05977141],\n",
              "           [0.05754884, 0.06198711, 0.05685337, 0.05653342]],\n",
              "   \n",
              "          [[0.0586242 , 0.06307   , 0.05792756, 0.05760707],\n",
              "           [0.05788039, 0.06232098, 0.05718457, 0.05686444],\n",
              "           [0.05944532, 0.06389686, 0.05874778, 0.05842686],\n",
              "           [0.056209  , 0.06063788, 0.05551502, 0.05519576]],\n",
              "   \n",
              "          [[0.05375992, 0.05817156, 0.05306866, 0.05275065],\n",
              "           [0.05302186, 0.05742828, 0.05233141, 0.05201378],\n",
              "           [0.0545747 , 0.05899209, 0.05388254, 0.05356411],\n",
              "           [0.05136342, 0.05575809, 0.05067484, 0.05035806]]], dtype=float32),\n",
              "   Array([[[-0.00649751, -0.00648422, -0.0064996 , -0.00650057],\n",
              "           [-0.00649974, -0.00648645, -0.00650184, -0.0065028 ],\n",
              "           [-0.00649505, -0.00648176, -0.00649714, -0.0064981 ],\n",
              "           [-0.00650477, -0.00649148, -0.00650686, -0.00650783]],\n",
              "   \n",
              "          [[-0.00647751, -0.00646423, -0.00647961, -0.00648057],\n",
              "           [-0.00647975, -0.00646646, -0.00648184, -0.0064828 ],\n",
              "           [-0.00647505, -0.00646177, -0.00647714, -0.00647811],\n",
              "           [-0.00648477, -0.00647148, -0.00648686, -0.00648783]],\n",
              "   \n",
              "          [[-0.00648154, -0.00646826, -0.00648364, -0.0064846 ],\n",
              "           [-0.00648378, -0.00647049, -0.00648587, -0.00648683],\n",
              "           [-0.00647908, -0.0064658 , -0.00648117, -0.00648214],\n",
              "           [-0.0064888 , -0.00647551, -0.00649089, -0.00649186]],\n",
              "   \n",
              "          [[-0.00649619, -0.0064829 , -0.00649828, -0.00649925],\n",
              "           [-0.00649843, -0.00648514, -0.00650052, -0.00650148],\n",
              "           [-0.00649373, -0.00648044, -0.00649582, -0.00649679],\n",
              "           [-0.00650345, -0.00649016, -0.00650554, -0.00650651]]],      dtype=float32)],\n",
              "  [[Array([[-0. ,  0.1, -0.7,  0.3, -0.1, -0.7,  0.3, -0.4,  0.5,  0.8,  0.8,\n",
              "            -0.3,  0.1,  0.1,  0.6, -0.7,  0.7, -0.1,  0.6, -0.7,  0.1,  0.7,\n",
              "            -0.7, -1. , -0.3,  0.3,  0.1,  0.4,  0.4,  0.2, -0.7, -0.3, -0.1,\n",
              "            -0.5, -0.6,  0.7,  0.4, -0.8],\n",
              "           [-0. ,  0.1, -0.7,  0.3, -0.1, -0.7,  0.3, -0.4,  0.5,  0.8,  0.8,\n",
              "            -0.3,  0.1,  0.1,  0.6, -0.7,  0.7, -0.1,  0.6, -0.7,  0.1,  0.7,\n",
              "            -0.7, -1. , -0.3,  0.3,  0.1,  0.4,  0.4,  0.2, -0.7, -0.3, -0.1,\n",
              "            -0.5, -0.6,  0.7,  0.4, -0.8],\n",
              "           [-0. ,  0.1, -0.7,  0.3, -0.1, -0.7,  0.3, -0.4,  0.5,  0.8,  0.8,\n",
              "            -0.3,  0.1,  0.1,  0.6, -0.7,  0.7, -0.1,  0.6, -0.7,  0.1,  0.7,\n",
              "            -0.7, -1. , -0.3,  0.3,  0.1,  0.4,  0.4,  0.2, -0.7, -0.3, -0.1,\n",
              "            -0.5, -0.6,  0.7,  0.4, -0.8],\n",
              "           [-0. ,  0.1, -0.7,  0.3, -0.1, -0.7,  0.3, -0.4,  0.5,  0.8,  0.8,\n",
              "            -0.3,  0.1,  0.1,  0.6, -0.7,  0.7, -0.1,  0.6, -0.7,  0.1,  0.7,\n",
              "            -0.7, -1. , -0.3,  0.3,  0.1,  0.4,  0.4,  0.2, -0.7, -0.3, -0.1,\n",
              "            -0.5, -0.6,  0.7,  0.4, -0.8]], dtype=float32),\n",
              "    Array([[-0.5379374],\n",
              "           [ 0.8987553],\n",
              "           [ 0.7375226],\n",
              "           [-0.2772019]], dtype=float32),\n",
              "    Array([[-0.5, -0.8, -0.3, -0. , -0.7,  0.6,  0.7,  0.2, -0.1, -0.2,  0.9,\n",
              "             0.2,  0.9, -0.1,  0.1, -0. , -0.5,  0.6,  0.4,  0.9, -0.5, -0.6,\n",
              "             0.3,  0.8, -0.6,  0.5, -0.6,  0.6,  0.3, -0.2,  0.9, -0.4,  0.2,\n",
              "            -0.8, -0.8,  0.2, -0.7, -0.2, -0.3, -0.5,  0.9,  0.7,  0.9,  0.6,\n",
              "             0.8, -0.4,  0.8,  0.6, -0.1,  0.7, -0.8, -0.8, -0.1, -0.8, -0.1,\n",
              "             0.6, -0.6, -0.4,  0.6, -0.3,  0.8],\n",
              "           [-0.5, -0.8, -0.3, -0. , -0.7,  0.6,  0.7,  0.2, -0.1, -0.2,  0.9,\n",
              "             0.2,  0.9, -0.1,  0.1, -0. , -0.5,  0.6,  0.4,  0.9, -0.5, -0.6,\n",
              "             0.3,  0.8, -0.6,  0.5, -0.6,  0.6,  0.3, -0.2,  0.9, -0.4,  0.2,\n",
              "            -0.8, -0.8,  0.2, -0.7, -0.2, -0.3, -0.5,  0.9,  0.7,  0.9,  0.6,\n",
              "             0.8, -0.4,  0.8,  0.6, -0.1,  0.7, -0.8, -0.8, -0.1, -0.8, -0.1,\n",
              "             0.6, -0.6, -0.4,  0.6, -0.3,  0.8],\n",
              "           [-0.5, -0.8, -0.3, -0. , -0.7,  0.6,  0.7,  0.2, -0.1, -0.2,  0.9,\n",
              "             0.2,  0.9, -0.1,  0.1, -0. , -0.5,  0.6,  0.4,  0.9, -0.5, -0.6,\n",
              "             0.3,  0.8, -0.6,  0.5, -0.6,  0.6,  0.3, -0.2,  0.9, -0.4,  0.2,\n",
              "            -0.8, -0.8,  0.2, -0.7, -0.2, -0.3, -0.5,  0.9,  0.7,  0.9,  0.6,\n",
              "             0.8, -0.4,  0.8,  0.6, -0.1,  0.7, -0.8, -0.8, -0.1, -0.8, -0.1,\n",
              "             0.6, -0.6, -0.4,  0.6, -0.3,  0.8],\n",
              "           [-0.5, -0.8, -0.3, -0. , -0.7,  0.6,  0.7,  0.2, -0.1, -0.2,  0.9,\n",
              "             0.2,  0.9, -0.1,  0.1, -0. , -0.5,  0.6,  0.4,  0.9, -0.5, -0.6,\n",
              "             0.3,  0.8, -0.6,  0.5, -0.6,  0.6,  0.3, -0.2,  0.9, -0.4,  0.2,\n",
              "            -0.8, -0.8,  0.2, -0.7, -0.2, -0.3, -0.5,  0.9,  0.7,  0.9,  0.6,\n",
              "             0.8, -0.4,  0.8,  0.6, -0.1,  0.7, -0.8, -0.8, -0.1, -0.8, -0.1,\n",
              "             0.6, -0.6, -0.4,  0.6, -0.3,  0.8]], dtype=float32)],\n",
              "   [Array([[ 0.1, -0.1, -0.3,  0.4,  0.3,  0.8,  0.3, -0.5,  0.1, -0.3,  0.2],\n",
              "           [ 0.1, -0.1, -0.3,  0.4,  0.3,  0.8,  0.3, -0.5,  0.1, -0.3,  0.2],\n",
              "           [ 0.1, -0.1, -0.3,  0.4,  0.3,  0.8,  0.3, -0.5,  0.1, -0.3,  0.2],\n",
              "           [ 0.1, -0.1, -0.3,  0.4,  0.3,  0.8,  0.3, -0.5,  0.1, -0.3,  0.2]],      dtype=float32),\n",
              "    Array([[-0.50196624],\n",
              "           [ 0.686368  ],\n",
              "           [-0.68836045],\n",
              "           [ 0.03158426]], dtype=float32),\n",
              "    Array([[ 0.1,  0.3, -0.5, -0. , -0.1,  0.6, -0.5, -0.7,  0.4,  0.9,  0.1,\n",
              "             0.2, -0.6, -0.1,  0.8,  0.6,  0.8,  0.3,  0.5,  0.8, -0.7,  0.7,\n",
              "            -0.6,  0.4, -0.4, -0.2,  0.4,  0.4,  0.8, -1. , -0.3, -0.3, -0.6,\n",
              "            -0.8, -0.7,  0.3, -0.7,  0.4, -0. ,  0.1,  0.7, -0.6,  0.8, -0.5,\n",
              "             0.8, -0.4,  0.3, -0.3, -0.1, -0.2, -0.3,  0.1, -0.1,  0.1, -0.6,\n",
              "             0.9,  0.9, -0.4, -0.2, -0.7,  0.4, -0.2, -0.8, -0.7, -0.4,  0.2,\n",
              "            -0.1,  0.1,  0.6,  0.5,  0.1,  0.3, -0.8, -0.2,  0.2,  0.1, -0.8,\n",
              "            -0. ,  0.7,  0.3,  0.6,  0.2, -0.1, -0.8, -0.8, -0.6, -0.3,  0.7],\n",
              "           [ 0.1,  0.3, -0.5, -0. , -0.1,  0.6, -0.5, -0.7,  0.4,  0.9,  0.1,\n",
              "             0.2, -0.6, -0.1,  0.8,  0.6,  0.8,  0.3,  0.5,  0.8, -0.7,  0.7,\n",
              "            -0.6,  0.4, -0.4, -0.2,  0.4,  0.4,  0.8, -1. , -0.3, -0.3, -0.6,\n",
              "            -0.8, -0.7,  0.3, -0.7,  0.4, -0. ,  0.1,  0.7, -0.6,  0.8, -0.5,\n",
              "             0.8, -0.4,  0.3, -0.3, -0.1, -0.2, -0.3,  0.1, -0.1,  0.1, -0.6,\n",
              "             0.9,  0.9, -0.4, -0.2, -0.7,  0.4, -0.2, -0.8, -0.7, -0.4,  0.2,\n",
              "            -0.1,  0.1,  0.6,  0.5,  0.1,  0.3, -0.8, -0.2,  0.2,  0.1, -0.8,\n",
              "            -0. ,  0.7,  0.3,  0.6,  0.2, -0.1, -0.8, -0.8, -0.6, -0.3,  0.7],\n",
              "           [ 0.1,  0.3, -0.5, -0. , -0.1,  0.6, -0.5, -0.7,  0.4,  0.9,  0.1,\n",
              "             0.2, -0.6, -0.1,  0.8,  0.6,  0.8,  0.3,  0.5,  0.8, -0.7,  0.7,\n",
              "            -0.6,  0.4, -0.4, -0.2,  0.4,  0.4,  0.8, -1. , -0.3, -0.3, -0.6,\n",
              "            -0.8, -0.7,  0.3, -0.7,  0.4, -0. ,  0.1,  0.7, -0.6,  0.8, -0.5,\n",
              "             0.8, -0.4,  0.3, -0.3, -0.1, -0.2, -0.3,  0.1, -0.1,  0.1, -0.6,\n",
              "             0.9,  0.9, -0.4, -0.2, -0.7,  0.4, -0.2, -0.8, -0.7, -0.4,  0.2,\n",
              "            -0.1,  0.1,  0.6,  0.5,  0.1,  0.3, -0.8, -0.2,  0.2,  0.1, -0.8,\n",
              "            -0. ,  0.7,  0.3,  0.6,  0.2, -0.1, -0.8, -0.8, -0.6, -0.3,  0.7],\n",
              "           [ 0.1,  0.3, -0.5, -0. , -0.1,  0.6, -0.5, -0.7,  0.4,  0.9,  0.1,\n",
              "             0.2, -0.6, -0.1,  0.8,  0.6,  0.8,  0.3,  0.5,  0.8, -0.7,  0.7,\n",
              "            -0.6,  0.4, -0.4, -0.2,  0.4,  0.4,  0.8, -1. , -0.3, -0.3, -0.6,\n",
              "            -0.8, -0.7,  0.3, -0.7,  0.4, -0. ,  0.1,  0.7, -0.6,  0.8, -0.5,\n",
              "             0.8, -0.4,  0.3, -0.3, -0.1, -0.2, -0.3,  0.1, -0.1,  0.1, -0.6,\n",
              "             0.9,  0.9, -0.4, -0.2, -0.7,  0.4, -0.2, -0.8, -0.7, -0.4,  0.2,\n",
              "            -0.1,  0.1,  0.6,  0.5,  0.1,  0.3, -0.8, -0.2,  0.2,  0.1, -0.8,\n",
              "            -0. ,  0.7,  0.3,  0.6,  0.2, -0.1, -0.8, -0.8, -0.6, -0.3,  0.7]],      dtype=float32)],\n",
              "   [Array([[ 0.8, -0. , -0.5, -0.4, -0.8,  0.2,  0.7, -0.5, -0.4],\n",
              "           [ 0.8, -0. , -0.5, -0.4, -0.8,  0.2,  0.7, -0.5, -0.4],\n",
              "           [ 0.8, -0. , -0.5, -0.4, -0.8,  0.2,  0.7, -0.5, -0.4],\n",
              "           [ 0.8, -0. , -0.5, -0.4, -0.8,  0.2,  0.7, -0.5, -0.4]],      dtype=float32),\n",
              "    Array([[ 0.94652176],\n",
              "           [-0.14662766],\n",
              "           [ 0.2135694 ],\n",
              "           [-0.330801  ]], dtype=float32),\n",
              "    Array([[-0.3,  0.4,  0.7,  0.5, -0.6,  0.8, -0.3,  0.3,  0.5,  0.7,  0.9,\n",
              "            -0.5, -0.2, -0.8, -1. ,  0.2,  0.5,  0.1,  0.4, -0.8, -0.3, -0.3,\n",
              "             0.5, -0.7,  0.5,  0.5,  0.6,  0.6, -0.3,  0.4,  0.6,  0.1, -0.1,\n",
              "             0.6, -0.1,  0.3, -0.4, -0.6,  0.4,  0.7,  0.7,  0.2, -0.6,  0.2,\n",
              "            -0.3, -0.6, -0. , -0.8,  0.1, -0.1,  0.7, -0.5,  0.3, -0. ,  0.7,\n",
              "            -0.1, -0. , -0.3,  0.8,  0.2, -0.6, -0.6,  0.2,  0.3,  0.8, -0.5,\n",
              "            -0.7,  0.3,  0.8, -0.1,  0.1,  0.3, -0. ,  0.7, -0.4, -0.7, -0. ,\n",
              "            -0.5, -0.6, -0.4, -0. ,  0.7, -0.4,  0.1, -0.2,  0.1, -0.7, -0.8,\n",
              "             0.5,  0.1],\n",
              "           [-0.3,  0.4,  0.7,  0.5, -0.6,  0.8, -0.3,  0.3,  0.5,  0.7,  0.9,\n",
              "            -0.5, -0.2, -0.8, -1. ,  0.2,  0.5,  0.1,  0.4, -0.8, -0.3, -0.3,\n",
              "             0.5, -0.7,  0.5,  0.5,  0.6,  0.6, -0.3,  0.4,  0.6,  0.1, -0.1,\n",
              "             0.6, -0.1,  0.3, -0.4, -0.6,  0.4,  0.7,  0.7,  0.2, -0.6,  0.2,\n",
              "            -0.3, -0.6, -0. , -0.8,  0.1, -0.1,  0.7, -0.5,  0.3, -0. ,  0.7,\n",
              "            -0.1, -0. , -0.3,  0.8,  0.2, -0.6, -0.6,  0.2,  0.3,  0.8, -0.5,\n",
              "            -0.7,  0.3,  0.8, -0.1,  0.1,  0.3, -0. ,  0.7, -0.4, -0.7, -0. ,\n",
              "            -0.5, -0.6, -0.4, -0. ,  0.7, -0.4,  0.1, -0.2,  0.1, -0.7, -0.8,\n",
              "             0.5,  0.1],\n",
              "           [-0.3,  0.4,  0.7,  0.5, -0.6,  0.8, -0.3,  0.3,  0.5,  0.7,  0.9,\n",
              "            -0.5, -0.2, -0.8, -1. ,  0.2,  0.5,  0.1,  0.4, -0.8, -0.3, -0.3,\n",
              "             0.5, -0.7,  0.5,  0.5,  0.6,  0.6, -0.3,  0.4,  0.6,  0.1, -0.1,\n",
              "             0.6, -0.1,  0.3, -0.4, -0.6,  0.4,  0.7,  0.7,  0.2, -0.6,  0.2,\n",
              "            -0.3, -0.6, -0. , -0.8,  0.1, -0.1,  0.7, -0.5,  0.3, -0. ,  0.7,\n",
              "            -0.1, -0. , -0.3,  0.8,  0.2, -0.6, -0.6,  0.2,  0.3,  0.8, -0.5,\n",
              "            -0.7,  0.3,  0.8, -0.1,  0.1,  0.3, -0. ,  0.7, -0.4, -0.7, -0. ,\n",
              "            -0.5, -0.6, -0.4, -0. ,  0.7, -0.4,  0.1, -0.2,  0.1, -0.7, -0.8,\n",
              "             0.5,  0.1],\n",
              "           [-0.3,  0.4,  0.7,  0.5, -0.6,  0.8, -0.3,  0.3,  0.5,  0.7,  0.9,\n",
              "            -0.5, -0.2, -0.8, -1. ,  0.2,  0.5,  0.1,  0.4, -0.8, -0.3, -0.3,\n",
              "             0.5, -0.7,  0.5,  0.5,  0.6,  0.6, -0.3,  0.4,  0.6,  0.1, -0.1,\n",
              "             0.6, -0.1,  0.3, -0.4, -0.6,  0.4,  0.7,  0.7,  0.2, -0.6,  0.2,\n",
              "            -0.3, -0.6, -0. , -0.8,  0.1, -0.1,  0.7, -0.5,  0.3, -0. ,  0.7,\n",
              "            -0.1, -0. , -0.3,  0.8,  0.2, -0.6, -0.6,  0.2,  0.3,  0.8, -0.5,\n",
              "            -0.7,  0.3,  0.8, -0.1,  0.1,  0.3, -0. ,  0.7, -0.4, -0.7, -0. ,\n",
              "            -0.5, -0.6, -0.4, -0. ,  0.7, -0.4,  0.1, -0.2,  0.1, -0.7, -0.8,\n",
              "             0.5,  0.1]], dtype=float32)],\n",
              "   Array([[[0.01903691, 0.01527069, 0.01650876, 0.01463875],\n",
              "           [0.02316092, 0.0193661 , 0.02061361, 0.01872934],\n",
              "           [0.01839287, 0.01463113, 0.01586773, 0.01399995],\n",
              "           [0.02088471, 0.01710564, 0.01834795, 0.01647153]],\n",
              "   \n",
              "          [[0.02402674, 0.02022596, 0.02147543, 0.01958819],\n",
              "           [0.02818825, 0.02435893, 0.02561781, 0.02371635],\n",
              "           [0.02337681, 0.0195805 , 0.02082849, 0.01894348],\n",
              "           [0.02589139, 0.02207778, 0.02333148, 0.02143785]],\n",
              "   \n",
              "          [[0.0234645 , 0.01966758, 0.02091578, 0.01903047],\n",
              "           [0.0276218 , 0.02379634, 0.02505395, 0.02315442],\n",
              "           [0.02281523, 0.01902279, 0.02026952, 0.01838643],\n",
              "           [0.02532725, 0.02151752, 0.02276994, 0.02087824]],\n",
              "   \n",
              "          [[0.01993912, 0.01616661, 0.01740676, 0.01553361],\n",
              "           [0.02406993, 0.02026885, 0.02151841, 0.01963102],\n",
              "           [0.019294  , 0.01552598, 0.01676465, 0.01489374],\n",
              "           [0.02178997, 0.01800463, 0.01924901, 0.01736946]]], dtype=float32),\n",
              "   Array([[[-0.00660437, -0.00661652, -0.00661252, -0.00661856],\n",
              "           [-0.00659117, -0.00660332, -0.00659932, -0.00660536],\n",
              "           [-0.00660645, -0.00661859, -0.00661459, -0.00662064],\n",
              "           [-0.00659845, -0.00661059, -0.00660659, -0.00661264]],\n",
              "   \n",
              "          [[-0.00658842, -0.00660056, -0.00659656, -0.0066026 ],\n",
              "           [-0.00657522, -0.00658736, -0.00658336, -0.0065894 ],\n",
              "           [-0.00659049, -0.00660263, -0.00659863, -0.00660467],\n",
              "           [-0.00658249, -0.00659463, -0.00659063, -0.00659668]],\n",
              "   \n",
              "          [[-0.00659021, -0.00660235, -0.00659835, -0.0066044 ],\n",
              "           [-0.00657701, -0.00658915, -0.00658515, -0.00659119],\n",
              "           [-0.00659228, -0.00660442, -0.00660042, -0.00660647],\n",
              "           [-0.00658428, -0.00659642, -0.00659242, -0.00659847]],\n",
              "   \n",
              "          [[-0.00660148, -0.00661362, -0.00660962, -0.00661567],\n",
              "           [-0.00658828, -0.00660042, -0.00659642, -0.00660247],\n",
              "           [-0.00660355, -0.00661569, -0.00661169, -0.00661774],\n",
              "           [-0.00659555, -0.0066077 , -0.00660369, -0.00660974]]],      dtype=float32)]],\n",
              " [[74, 105, 264], [81, 195, 219], [38, 111, 209]])"
            ]
          },
          "execution_count": 18,
          "metadata": {},
          "output_type": "execute_result"
        }
      ],
      "source": [
        "_anant_train_generator_allencahnNd_boundary(4, [jax.random.PRNGKey(444),jax.random.PRNGKey(445),jax.random.PRNGKey(333),], 100)"
      ]
    },
    {
      "cell_type": "code",
      "execution_count": null,
      "metadata": {
        "id": "ai_HoQSVgzLu"
      },
      "outputs": [],
      "source": []
    },
    {
      "cell_type": "markdown",
      "metadata": {
        "id": "wEWeH3ZFN_5P"
      },
      "source": [
        "## 3. Utils"
      ]
    },
    {
      "cell_type": "code",
      "execution_count": 19,
      "metadata": {
        "id": "cLX1oaDUN_5P"
      },
      "outputs": [],
      "source": [
        "def relative_l2(u, u_gt):\n",
        "    \"\"\"\n",
        "    Function to compute relative l2 error\n",
        "\n",
        "    Arguments:\n",
        "      u: predicted solution\n",
        "      u_gt: exact solution\n",
        "    Return:\n",
        "      relative l2 error\n",
        "    \"\"\"\n",
        "    return jnp.linalg.norm(u-u_gt) / jnp.linalg.norm(u_gt)\n",
        "\n",
        "def mse(apply_fn, params, data):\n",
        "    \"\"\"\n",
        "    Function to compute the mean squared error\n",
        "\n",
        "    Arguments:\n",
        "      apply_fn: calling Anant-Net\n",
        "      params: trained parameters of Anant-Net\n",
        "      data: data for which the error is to be computed\n",
        "\n",
        "    Return:\n",
        "      mean squared error\n",
        "    \"\"\"\n",
        "    error = 0.0\n",
        "    sum = 0.0\n",
        "    for i in range(len(data)):\n",
        "      x, y, z, u_gt = data[i]\n",
        "      u = apply_fn(params, x, y, z)\n",
        "      error += jnp.linalg.norm(u-u_gt)\n",
        "      sum += jnp.linalg.norm(u_gt)\n",
        "    return error / sum\n",
        "\n",
        "def plot_allencahn_slice(x, y, z, u):\n",
        "    \"\"\"\n",
        "    Function to plot the solution along the active dimensions\n",
        "\n",
        "    Arguments:\n",
        "      Assuming a problem with 3 body networks (or 3 batch size)\n",
        "      x: x-coordinate (active-dimension-1)\n",
        "      y: y-coordinate (active-dimension-2)\n",
        "      z: z-coordinate (active-dimension-3)\n",
        "      u: solution\n",
        "\n",
        "    Return:\n",
        "\n",
        "    \"\"\"\n",
        "    fig = plt.figure(figsize=(6, 6))\n",
        "    ax = fig.add_subplot(111, projection='3d')\n",
        "    cs = ax.scatter(x, y, z, c=u, s=0.3, cmap='seismic', edgecolor='none')\n",
        "    ax.set_title('u(x, y, z)', fontsize=20)\n",
        "    ax.set_xlabel('x', fontsize=18, labelpad=10)\n",
        "    ax.set_ylabel('y', fontsize=18, labelpad=10)\n",
        "    ax.set_zlabel('z', fontsize=18, labelpad=10)\n",
        "    cbar = fig.colorbar(cs, orientation='horizontal', fraction=.1)\n",
        "    plt.show()\n",
        "\n",
        "def plot_allencahn_slices(ax, x, y, z, u, title, labels):\n",
        "    \"\"\"\n",
        "    Function to plot the solution along the active dimensions\n",
        "\n",
        "    Arguments:\n",
        "      Assuming a problem with 3 body networks (or 3 batch size)\n",
        "      ax: axis\n",
        "      x: x-coordinate (active-dimension-1)\n",
        "      y: y-coordinate (active-dimension-2)\n",
        "      z: z-coordinate (active-dimension-3)\n",
        "      u: solution\n",
        "      title: title of the plot\n",
        "      labels: labels of the axes\n",
        "\n",
        "    Return:\n",
        "\n",
        "    \"\"\"\n",
        "    cs = ax.scatter(x, y, z, c=u, s=0.3, cmap='seismic', edgecolor='none')\n",
        "    ax.set_title(title, fontsize=20)\n",
        "    ax.set_xlabel(labels[0], fontsize=18, labelpad=10)\n",
        "    ax.set_ylabel(labels[1], fontsize=18, labelpad=10)\n",
        "    ax.set_zlabel(labels[2], fontsize=18, labelpad=10)"
      ]
    },
    {
      "cell_type": "markdown",
      "metadata": {
        "id": "wLxyh2TQTvwl"
      },
      "source": [
        "### Inference/Test at Random Points"
      ]
    },
    {
      "cell_type": "code",
      "execution_count": 20,
      "metadata": {
        "id": "igu4LUf2Tuey"
      },
      "outputs": [],
      "source": [
        "def test_model_random(seed, params, ninputs, feat_sizes, num_samples):\n",
        "  \"\"\"\n",
        "  Function to generate random data points for testing Anant-Net\n",
        "\n",
        "  Arguments:\n",
        "    seed: random seed\n",
        "    params: trainable parameters of Anant-Net\n",
        "    ninputs: number of inputs per body network (number of dimensions divided by number of body networks)\n",
        "    feat_sizes: number of features in each layer (architecture of a single body network)\n",
        "    num_samples: number of test points need to be sampled\n",
        "\n",
        "  Return:\n",
        "    mean squared error (test)\n",
        "  \"\"\"\n",
        "  feat_sizes = tuple(feat_sizes)\n",
        "\n",
        "  # make & init model\n",
        "  model = Anant_test(feat_sizes)\n",
        "  apply_fn = jax.jit(model.apply)\n",
        "\n",
        "  key = jax.random.PRNGKey(seed)\n",
        "  key, subkey = jax.random.split(key, 2)\n",
        "\n",
        "  key_test = jax.random.split(key, num_samples)\n",
        "  data_test = _test_generator_allencahnNd_random(key_test, ninputs)\n",
        "\n",
        "  return mse(apply_fn, params, data_test)"
      ]
    },
    {
      "cell_type": "code",
      "execution_count": 62,
      "metadata": {
        "id": "yvpXUtoG0SvN"
      },
      "outputs": [],
      "source": [
        "def test_model_ntimes(seed, dir, params, ninputs, feat_sizes, ext='adam', num_samples = 10000):\n",
        "  \"\"\"\n",
        "  The function performs testing of the trained model on random test points\n",
        "\n",
        "  Arguments:\n",
        "    seed: random seed\n",
        "    dir: directory to save the results\n",
        "    params: trainable parameters\n",
        "    ninputs: number of inputs per body network\n",
        "    feat_sizes: architecture of the body network in the form of a list\n",
        "    ext: 'adam' or 'lbfgs'\n",
        "    num_samples: number of test samples\n",
        "\n",
        "  Returns:\n",
        "    test_rl2: list of test results\n",
        "  \"\"\"\n",
        "  test_rl2 = []\n",
        "  for i in range(len(params)):\n",
        "    test_rl2.append(test_model_random(seed, params[i], ninputs, feat_sizes, num_samples))\n",
        "    var = round(test_rl2[i], 5)\n",
        "    print(f\"% Relative L2 Error: {var*100} %\")\n",
        "\n",
        "  # write results\n",
        "  with open(os.path.join(dir, f'test_rl2_{ext}.pkl'), 'wb') as f:\n",
        "    pkl.dump(test_rl2, f)\n",
        "  return test_rl2"
      ]
    },
    {
      "cell_type": "markdown",
      "metadata": {
        "id": "sqjNv1675Zo-"
      },
      "source": [
        "### Load/Save Results"
      ]
    },
    {
      "cell_type": "code",
      "execution_count": 22,
      "metadata": {
        "id": "posc6s2p3675"
      },
      "outputs": [],
      "source": [
        "def save_results(dir, loss, time_list, params_list, best_params):\n",
        "  \"\"\"\n",
        "  Function to save the results of Anant-Net training\n",
        "\n",
        "  Arguments:\n",
        "    dir: directory for writing the results\n",
        "    loss: training loss\n",
        "    time_list: time profiling\n",
        "    params_list: saved parameters at differnt iterations during model training\n",
        "    best_params: best parameters\n",
        "\n",
        "  Return:\n",
        "\n",
        "  \"\"\"\n",
        "  with open(os.path.join(dir, 'loss.pkl'), 'wb') as f:\n",
        "    pkl.dump(loss, f)\n",
        "\n",
        "  with open(os.path.join(dir, 'params_hist.pkl'), 'wb') as f:\n",
        "    pkl.dump(params_list, f)\n",
        "\n",
        "  with open(os.path.join(dir, 'time_hist.pkl'), 'wb') as f:\n",
        "    pkl.dump(time_list, f)\n",
        "\n",
        "  with open(os.path.join(dir, 'best_params.pkl'), 'wb') as f:\n",
        "    pkl.dump(best_params, f)"
      ]
    },
    {
      "cell_type": "code",
      "execution_count": 23,
      "metadata": {
        "id": "BFWPKPJ-7En3"
      },
      "outputs": [],
      "source": [
        "def load_results(dir):\n",
        "  \"\"\"\n",
        "  Function to load the results of Anant-Net training\n",
        "\n",
        "  Arguments:\n",
        "    dir: directory from which the results are loaded\n",
        "\n",
        "  Return:\n",
        "    loss: training loss\n",
        "    time_list: time profiling\n",
        "    params_list: saved parameters at differnt iterations during model training\n",
        "    best_params: best parameters\n",
        "\n",
        "  \"\"\"\n",
        "  with open(os.path.join(dir, 'loss.pkl'), 'rb') as f:\n",
        "    loss = pkl.load(f)\n",
        "\n",
        "  with open(os.path.join(dir, 'params_hist.pkl'), 'rb') as f:\n",
        "    params_list = pkl.load(f)\n",
        "\n",
        "  with open(os.path.join(dir, 'time_hist.pkl'), 'rb') as f:\n",
        "    time_list = pkl.load(f)\n",
        "\n",
        "  with open(os.path.join(dir, 'best_params.pkl'), 'rb') as f:\n",
        "    best_params = pkl.load(f)\n",
        "\n",
        "  return loss, time_list, params_list, best_params"
      ]
    },
    {
      "cell_type": "code",
      "execution_count": 24,
      "metadata": {
        "id": "r24bBSW7gDJR"
      },
      "outputs": [],
      "source": [
        "def load_test_results(dir):\n",
        "  \"\"\"\n",
        "  Function to load the results of Anant-Net training\n",
        "\n",
        "  Arguments:\n",
        "    dir: directory where the relative l2 error (test) is saved\n",
        "\n",
        "  Return:\n",
        "    relative l2 error (test)\n",
        "  \"\"\"\n",
        "  with open(os.path.join(dir, 'test_rl2_lbfgs.pkl'), 'rb') as f:\n",
        "    tst = pkl.load(f)\n",
        "  return tst"
      ]
    },
    {
      "cell_type": "code",
      "execution_count": null,
      "metadata": {
        "id": "Hc7-528qgUGk"
      },
      "outputs": [],
      "source": []
    },
    {
      "cell_type": "markdown",
      "metadata": {
        "id": "9Q3WgLq_N_5P"
      },
      "source": [
        "## 4. Main function"
      ]
    },
    {
      "cell_type": "code",
      "execution_count": 25,
      "metadata": {
        "id": "UHybmfsFVWh1"
      },
      "outputs": [],
      "source": [
        "def main(NC, NB, SAMP_FREQ, SEED, EPOCHS, N_LAYERS, NNEURONS, LOG_ITER, PRINT_ITER, NUM_BATCHES_COLL, NUM_BATCHES_BOUND, NDIMS, BATCH_SIZE, LAMB, WDIR=None, OPT_DICT = {'Optimizer': 'Adam', 'Lr': 1e-3, 'Reg': 0.1, 'Param_Initial': None}):\n",
        "    \"\"\"\n",
        "    The \"main\" function to train Anant-Net\n",
        "\n",
        "    Arguments:\n",
        "      NC: Number of partitions for an axis in the collocation grid. For eg. a grid with 3 body networks will have NCxNCxNC collocation points\n",
        "      NB: Number of partitions for an axis in the boundary grid. For eg. a grid with 3 body networks will have NBxNBxNB boundary points points\n",
        "          Also, note that if NB = 1,  Anant-Net handles a single boundary point since NBxNBxNB = 1\n",
        "      SAMP_FREQ: The frequency at which new collocation grids are sampled during model training.\n",
        "      SEED: Random seed\n",
        "      EPOCHS: Number of iterations\n",
        "      N_LAYERS: Number of layers in the body network\n",
        "      NNEURONS [List]: [Number of neurons in hidden layers, Number of neuron in final embedding layer]\n",
        "      LOG_ITER: Frequency of writing the results\n",
        "      PRINT_ITER: Frequency of printing the results\n",
        "      NUM_BATCHES_COLL: Number of collocation grids\n",
        "      NUM_BATCHES_BOUND: Number of boundary grids\n",
        "      NDIMS: Number of dimensions for the high-dimensional PDE\n",
        "      BATCH_SIZE: Batch size for collocation grids. Can sample multiple collocation grids in a single iteration and sustains it untill SAMP_FREQ\n",
        "      LAMB: Weight for the boundary loss\n",
        "      WDIR: Work directory to save the results\n",
        "      OPT_DICT:\n",
        "        A dictionary of optimizer settings\n",
        "        Optimizer: 'AdamW' or 'LBFGS'\n",
        "        Lr: Learning rate\n",
        "        Reg: Weight decay parameter such as used in AdamW for regularization\n",
        "        Param_Initial: Initial parameters for warm starting the model training\n",
        "\n",
        "    Returns:\n",
        "      loss_lst: list of loss values\n",
        "      time_list: list of time profiling\n",
        "      p_list: list of trained parameters at different iterations\n",
        "      best_params: best parameters\n",
        "    \"\"\"\n",
        "\n",
        "    # setting numpy random seed\n",
        "    np.random.seed(SEED)\n",
        "\n",
        "    # force jax to use one device\n",
        "    os.environ[\"CUDA_VISIBLE_DEVICES\"]=\"0\"\n",
        "    os.environ[\"XLA_PYTHON_CLIENT_PREALLOCATE\"]=\"false\"\n",
        "    jax.config.update(\"jax_enable_x64\", False)\n",
        "\n",
        "    # random key\n",
        "    key = jax.random.PRNGKey(SEED)\n",
        "    key, subkey = jax.random.split(key, 2)\n",
        "\n",
        "    # setting up body networks\n",
        "    feat_sizes = [NNEURONS[0] for _ in range(N_LAYERS)]\n",
        "    feat_sizes[-1] = NNEURONS[1]\n",
        "    feat_sizes = tuple(feat_sizes)\n",
        "    print(f'Body Network: {feat_sizes}')\n",
        "\n",
        "    # number of inputs per body network. Here, we have 3 body networks.\n",
        "    N_INPUTS = int(NDIMS/3)\n",
        "\n",
        "    # make & init model\n",
        "    model = Anant(feat_sizes)\n",
        "\n",
        "    # initialization\n",
        "    d1 = 1\n",
        "    d2 = 1\n",
        "    d3 = N_INPUTS - 2\n",
        "    params = model.init(subkey, jnp.ones((NC, d1)), jnp.ones((NC, d2)), jnp.ones((NC, d3)), jnp.ones((NC, d1)), jnp.ones((NC, d2)), jnp.ones((NC, d3))\\\n",
        "                        , jnp.ones((NC, d1)), jnp.ones((NC, d2)), jnp.ones((NC, d3)))\n",
        "\n",
        "    # optimizer\n",
        "    optim = optax.adamw(OPT_DICT['Lr'], weight_decay=OPT_DICT['Reg'])\n",
        "\n",
        "    state = optim.init(params)\n",
        "\n",
        "    # dataset\n",
        "    key_coll = jax.random.split(key, NUM_BATCHES_COLL)\n",
        "    keys_coll = [key_i for key_i in key_coll]\n",
        "\n",
        "    key_bound = jax.random.split(key, NUM_BATCHES_BOUND)\n",
        "    keys_bound = [key_i for key_i in key_bound]\n",
        "\n",
        "    # forward & loss function\n",
        "    apply_fn = jax.jit(model.apply)\n",
        "\n",
        "    # test points\n",
        "    key_test = jax.random.split(key, 2000)\n",
        "    data_test = _test_generator_allencahnNd_random(key_test, N_INPUTS)\n",
        "\n",
        "    # collocation points\n",
        "    train_data_coll, dims_coll = _anant_train_generator_allencahnNd_collocation_(NC, keys_coll, N_INPUTS, seed=SEED)\n",
        "    train_data_bound, dims_bound = _anant_train_generator_allencahnNd_boundary(NB, keys_bound, N_INPUTS)\n",
        "\n",
        "    # training data summary\n",
        "    tot_data_samples = 0\n",
        "    for t_data in train_data_coll:\n",
        "      _,_,_,u,_ = t_data\n",
        "      tot_data_samples += u.shape[0]*u.shape[1]*u.shape[2]\n",
        "    print(f'\\nTotal number of collocation samples: {tot_data_samples}')\n",
        "\n",
        "    tot_data_samples = 0\n",
        "    for t_data in train_data_bound:\n",
        "      _,_,_,u,_ = t_data\n",
        "      tot_data_samples += u.shape[0]*u.shape[1]*u.shape[2]\n",
        "    print(f'Total number of boundary samples: {tot_data_samples}')\n",
        "\n",
        "\n",
        "    if OPT_DICT['Optimizer'] == 'LBFGS-Rank':\n",
        "      batch_idx = copy(OPT_DICT['Rank'])\n",
        "      op_fl = 0\n",
        "    else:\n",
        "      batch_idx = list(np.arange(0,len(train_data_coll),1))\n",
        "      opt_fl = 1\n",
        "\n",
        "    np.random.shuffle(batch_idx)\n",
        "    reset_idx = 0\n",
        "    update_epoch = 0\n",
        "    print_idx = 1\n",
        "\n",
        "    time_coll = 0.0\n",
        "    time_avg = 0.0\n",
        "    time_bound = 0.0\n",
        "    best_error = jnp.inf\n",
        "\n",
        "    time_list = []\n",
        "    p_list = []\n",
        "    loss_lst = []\n",
        "\n",
        "    lr = OPT_DICT['Lr']\n",
        "\n",
        "    start = time.time()\n",
        "    for e in trange(1, (EPOCHS*BATCH_SIZE)+1):\n",
        "\n",
        "      if len(batch_idx) < BATCH_SIZE and opt_fl:\n",
        "        batch_idx = list(np.arange(0,len(train_data_coll),1))\n",
        "        np.random.shuffle(batch_idx)\n",
        "        reset_idx = 0\n",
        "      elif len(batch_idx) < BATCH_SIZE and not opt_fl:\n",
        "        batch_idx = OPT_DICT['Rank']\n",
        "        np.random.shuffle(batch_idx)\n",
        "        reset_idx = 0\n",
        "\n",
        "      ################# process time for collocation points ###########################\n",
        "      time_coll = time.process_time()\n",
        "      loss_coll, gradient_coll = apply_anant_collocation(apply_fn, params, train_data_coll[batch_idx[0]])\n",
        "      time_coll = time.process_time() - time_coll\n",
        "      #################################################################################\n",
        "\n",
        "      ################# process time for averaging gradients ###########################\n",
        "      time_avg = time.process_time()\n",
        "      if reset_idx == 0:\n",
        "        gradient_avg = jax.tree.map(lambda x: x, gradient_coll)\n",
        "        loss_avg = loss_coll\n",
        "      else:\n",
        "        gradient_avg = jax.tree.map(lambda x, y: x + y, gradient_coll, gradient_avg)\n",
        "        loss_avg = loss_avg + loss_coll\n",
        "      time_avg = time.process_time() - time_avg\n",
        "      #################################################################################\n",
        "\n",
        "      reset_idx+=1\n",
        "\n",
        "      if reset_idx == BATCH_SIZE:\n",
        "\n",
        "        ################# process time for collocation points #########################\n",
        "        time_bound = time.process_time()\n",
        "        loss_bound, gradient_bound = apply_anant_boundary(apply_fn, params, train_data_bound, lamb=LAMB)\n",
        "        time_bound = time.process_time() - time_bound\n",
        "        ###############################################################################\n",
        "\n",
        "        ################# process time for averaging gradients ###########################\n",
        "        time_avg1 = time.process_time()\n",
        "        loss_avg = loss_avg/BATCH_SIZE + loss_bound\n",
        "\n",
        "        gradient_avg = jax.tree.map(lambda x: x/BATCH_SIZE, gradient_avg)\n",
        "        gradient = jax.tree.map(lambda x, y: x + y, gradient_avg, gradient_bound)\n",
        "        time_avg1 = time.process_time() - time_avg1\n",
        "        time_avg = time_avg + time_avg1\n",
        "        #################################################################################\n",
        "        time_list.append([time_coll, time_bound, time_avg])\n",
        "\n",
        "        params, state = update_model(optim, gradient, params, state)\n",
        "\n",
        "        gradient_avg = None\n",
        "        reset_idx = 0\n",
        "        update_epoch+=1\n",
        "        print_idx = 1\n",
        "\n",
        "\n",
        "      if update_epoch % SAMP_FREQ == 0:\n",
        "        # save the parameters for the best model\n",
        "        rl2 = test_model_random(333, params, N_INPUTS, feat_sizes, 1000)\n",
        "        if rl2 < best_error:\n",
        "          best_params = params\n",
        "          best_error = rl2\n",
        "\n",
        "      if update_epoch % PRINT_ITER == 0 and print_idx == 1:\n",
        "\n",
        "        x, y, z, uc, u_gt = train_data_coll[batch_idx[0]]\n",
        "        u = apply_fn(params, x[0], x[1], x[2], y[0], y[1], y[2], z[0], z[1], z[2])\n",
        "        if math.isnan(loss_avg):\n",
        "          print('LBFGS diverging...')\n",
        "          break\n",
        "\n",
        "        loss_lst += [[update_epoch,round(float(loss_avg),6)]]\n",
        "        print(f'Epoch: {update_epoch}/{EPOCHS}, collocation grid index: {batch_idx[0]}, lr: {lr} --> loss: {loss_avg:.8f}, best error: {best_error:.8f}')\n",
        "\n",
        "        loss_avg = 0.0\n",
        "        print_idx = 0\n",
        "\n",
        "      if update_epoch % LOG_ITER == 0:\n",
        "        p_list.append(params)\n",
        "\n",
        "      if update_epoch % SAMP_FREQ == 0:\n",
        "        batch_idx.pop(0)\n",
        "\n",
        "    end = time.time()\n",
        "    print(f'Runtime: {((end-start)/(EPOCHS)*1000):.2f} ms/iter.')\n",
        "\n",
        "    p_list.append(params)\n",
        "\n",
        "    # save results\n",
        "    try:\n",
        "      os.makedirs(WDIR, exist_ok=True)\n",
        "      save_results(WDIR, loss_lst, time_list, p_list, best_params)\n",
        "    except:\n",
        "      pass\n",
        "\n",
        "    return loss_lst, time_list, p_list, best_params"
      ]
    },
    {
      "cell_type": "code",
      "execution_count": 26,
      "metadata": {
        "id": "Dm4YNxkUDHNd"
      },
      "outputs": [],
      "source": [
        "def lbfgs(NC, NB, SAMP_FREQ, SEED, LR, EPOCHS, N_LAYERS, NNEURONS, LOG_ITER, PRINT_ITER, NUM_BATCHES_COLL, NUM_BATCHES_BOUND, NDIMS, BATCH_SIZE, LAMB, PARAM_INIT, WDIR=None):\n",
        "\n",
        "    \"\"\"\n",
        "    The \"main\" function to train Anant-Net with LBFGS\n",
        "\n",
        "    Arguments:\n",
        "      NC: Number of partitions for an axis in the collocation grid. For eg. a grid with 3 body networks will have NCxNCxNC collocation points\n",
        "      NB: Number of partitions for an axis in the boundary grid. For eg. a grid with 3 body networks will have NBxNBxNB boundary points points\n",
        "          Also, note that if NB = 1,  Anant-Net handles a single boundary point since NBxNBxNB = 1\n",
        "      SAMP_FREQ: The frequency at which new collocation grids are sampled during model training.\n",
        "      SEED: Random seed\n",
        "      EPOCHS: Number of iterations\n",
        "      N_LAYERS: Number of layers in the body network\n",
        "      NNEURONS [List]: [Number of neurons in hidden layers, Number of neuron in final embedding layer]\n",
        "      LOG_ITER: Frequency of writing the results\n",
        "      PRINT_ITER: Frequency of printing the results\n",
        "      NUM_BATCHES_COLL: Number of collocation grids\n",
        "      NUM_BATCHES_BOUND: Number of boundary grids\n",
        "      NDIMS: Number of dimensions for the high-dimensional PDE\n",
        "      BATCH_SIZE: Batch size for collocation grids. Can sample multiple collocation grids in a single iteration and sustains it untill SAMP_FREQ\n",
        "      LAMB: Weight for the boundary loss\n",
        "      PARAM_INIT: Initial parameters for warm starting the model training\n",
        "      WDIR: Work directory to save the results\n",
        "\n",
        "    Returns:\n",
        "      loss_lst: list of loss values\n",
        "      time_list: list of time profiling\n",
        "      p_list: list of trained parameters at different iterations\n",
        "    \"\"\"\n",
        "\n",
        "    # setting numpy random seed\n",
        "    np.random.seed(SEED)\n",
        "\n",
        "    # force jax to use one device\n",
        "    os.environ[\"CUDA_VISIBLE_DEVICES\"]=\"0\"\n",
        "    os.environ[\"XLA_PYTHON_CLIENT_PREALLOCATE\"]=\"false\"\n",
        "\n",
        "    # random key\n",
        "    key = jax.random.PRNGKey(SEED)\n",
        "    key, subkey = jax.random.split(key, 2)\n",
        "\n",
        "    # setting up body networks\n",
        "    feat_sizes = [NNEURONS[0] for _ in range(N_LAYERS)]\n",
        "    feat_sizes[-1] = NNEURONS[1]\n",
        "    feat_sizes = tuple(feat_sizes)\n",
        "    print(f'Body Network: {feat_sizes}')\n",
        "\n",
        "    # number of inputs per body network. Here, we have 3 body networks.\n",
        "    N_INPUTS = int(NDIMS/3)\n",
        "\n",
        "    # make & init model\n",
        "    model = Anant(feat_sizes)\n",
        "\n",
        "    params = PARAM_INIT\n",
        "\n",
        "    # optimizer\n",
        "    optim = optax.chain(\n",
        "        optax.scale_by_lbfgs(),\n",
        "        optax.scale(-1*LR)\n",
        "    )\n",
        "    state = optim.init(params)\n",
        "\n",
        "    # dataset\n",
        "    key_coll = jax.random.split(key, NUM_BATCHES_COLL)\n",
        "    keys_coll = [key_i for key_i in key_coll]\n",
        "\n",
        "    key_bound = jax.random.split(key, NUM_BATCHES_BOUND)\n",
        "    keys_bound = [key_i for key_i in key_bound]\n",
        "\n",
        "    # forward & loss function\n",
        "    apply_fn = jax.jit(model.apply)\n",
        "\n",
        "    # test points\n",
        "    key_test = jax.random.split(key, 2000)\n",
        "    data_test = _test_generator_allencahnNd_random(key_test, N_INPUTS)\n",
        "\n",
        "    # collocation points\n",
        "    train_data_coll, dims_coll = _anant_train_generator_allencahnNd_collocation_(NC, keys_coll, N_INPUTS, SEED)\n",
        "    train_data_bound, dims_bound = _anant_train_generator_allencahnNd_boundary(NB, keys_bound, N_INPUTS)\n",
        "\n",
        "    # training data summary\n",
        "    tot_data_samples = 0\n",
        "    for t_data in train_data_coll:\n",
        "      _,_,_,u,_ = t_data\n",
        "      tot_data_samples += u.shape[0]*u.shape[1]*u.shape[2]\n",
        "    print(f'\\nTotal number of collocation samples: {tot_data_samples}')\n",
        "\n",
        "    tot_data_samples = 0\n",
        "    for t_data in train_data_bound:\n",
        "      _,_,_,u,_ = t_data\n",
        "      tot_data_samples += u.shape[0]*u.shape[1]*u.shape[2]\n",
        "    print(f'Total number of boundary samples: {tot_data_samples}')\n",
        "\n",
        "    batch_idx = list(np.arange(0,len(train_data_coll),1))\n",
        "\n",
        "    np.random.shuffle(batch_idx)\n",
        "    reset_idx = 0\n",
        "    update_epoch = 0\n",
        "    print_idx = 1\n",
        "    best_error = jnp.inf\n",
        "\n",
        "    time_coll = 0.0\n",
        "    time_avg = 0.0\n",
        "    time_bound = 0.0\n",
        "\n",
        "    time_list = []\n",
        "    p_list = []\n",
        "    loss_lst = []\n",
        "\n",
        "    start = time.time()\n",
        "    for e in trange(1, (EPOCHS*BATCH_SIZE)+1):\n",
        "\n",
        "      if len(batch_idx) == 0:\n",
        "        batch_idx = list(np.arange(0,len(train_data_coll),1))\n",
        "        np.random.shuffle(batch_idx)\n",
        "        reset_idx = 0\n",
        "\n",
        "      ################# process time for collocation points ###########################\n",
        "      time_coll = time.process_time()\n",
        "      loss_coll, gradient_coll = apply_anant_collocation(apply_fn, params, train_data_coll[batch_idx[0]])\n",
        "      time_coll = time.process_time() - time_coll\n",
        "      #################################################################################\n",
        "\n",
        "      ################# process time for averaging gradients ###########################\n",
        "      time_avg = time.process_time()\n",
        "      if reset_idx == 0:\n",
        "        gradient_avg = jax.tree.map(lambda x: x, gradient_coll)\n",
        "        loss_avg = loss_coll\n",
        "      else:\n",
        "        gradient_avg = jax.tree.map(lambda x, y: x + y, gradient_coll, gradient_avg)\n",
        "        loss_avg = loss_avg + loss_coll\n",
        "      time_avg = time.process_time() - time_avg\n",
        "      #################################################################################\n",
        "\n",
        "      reset_idx+=1\n",
        "\n",
        "      if reset_idx == BATCH_SIZE:\n",
        "\n",
        "        ################# process time for collocation points #########################\n",
        "        time_bound = time.process_time()\n",
        "        loss_bound, gradient_bound = apply_anant_boundary(apply_fn, params, train_data_bound, lamb=LAMB)\n",
        "        time_bound = time.process_time() - time_bound\n",
        "        ###############################################################################\n",
        "\n",
        "        ################# process time for averaging gradients ###########################\n",
        "        time_avg1 = time.process_time()\n",
        "        loss_avg = loss_avg/BATCH_SIZE + loss_bound\n",
        "\n",
        "        gradient_avg = jax.tree.map(lambda x: x/BATCH_SIZE, gradient_avg)\n",
        "        gradient = jax.tree.map(lambda x, y: x + y, gradient_avg, gradient_bound)\n",
        "        time_avg1 = time.process_time() - time_avg1\n",
        "        time_avg = time_avg + time_avg1\n",
        "        #################################################################################\n",
        "        time_list.append([time_coll, time_bound, time_avg])\n",
        "\n",
        "        params, state = update_model(optim, gradient, params, state)\n",
        "\n",
        "        gradient_avg = None\n",
        "\n",
        "        reset_idx = 0\n",
        "        update_epoch+=1\n",
        "        print_idx = 1\n",
        "\n",
        "      if update_epoch % SAMP_FREQ == 0:\n",
        "        # save the parameters for the best model\n",
        "        # change the random seed below. Current random seed = 333 for computing validation error while training the model. \n",
        "        rl2 = test_model_random(333, params, N_INPUTS, feat_sizes, 1000)\n",
        "        if rl2 < best_error:\n",
        "          best_params = params\n",
        "          best_error = rl2\n",
        "\n",
        "      if update_epoch % PRINT_ITER == 0 and print_idx == 1:\n",
        "\n",
        "        x, y, z, uc, u_gt = train_data_coll[batch_idx[0]]\n",
        "        u = apply_fn(params, x[0], x[1], x[2], y[0], y[1], y[2], z[0], z[1], z[2])\n",
        "\n",
        "        if math.isnan(loss_avg):\n",
        "          print('Optimizer diverging...')\n",
        "          break\n",
        "        loss_lst += [[update_epoch,round(float(loss_avg),6)]]\n",
        "        print(f'Epoch: {update_epoch}/{EPOCHS}, collocation grid index: {batch_idx[0]}, lr: {LR} --> loss: {loss_avg:.8f}, best error: {best_error:.8f}')\n",
        "\n",
        "\n",
        "        loss_avg = 0.0\n",
        "        print_idx = 0\n",
        "\n",
        "      if update_epoch % LOG_ITER == 0:\n",
        "        p_list.append(params)\n",
        "\n",
        "      if update_epoch % SAMP_FREQ == 0:\n",
        "        batch_idx.pop(0)\n",
        "\n",
        "\n",
        "    end = time.time()\n",
        "    print(f'Runtime: {((end-start)/(EPOCHS)*1000):.2f} ms/iter.')\n",
        "\n",
        "    p_list.append(params)\n",
        "\n",
        "    # save results\n",
        "    try:\n",
        "      os.makedirs(WDIR, exist_ok=True)\n",
        "      save_results(WDIR, loss_lst, time_list, p_list, best_params)\n",
        "    except:\n",
        "      pass\n",
        "\n",
        "    return loss_lst, time_list, p_list, best_params"
      ]
    },
    {
      "cell_type": "markdown",
      "metadata": {
        "id": "zHY_BXICPGLI"
      },
      "source": [
        "# Run"
      ]
    },
    {
      "cell_type": "code",
      "execution_count": 30,
      "metadata": {
        "colab": {
          "base_uri": "https://localhost:8080/",
          "height": 35
        },
        "id": "nSubQX4SGZxM",
        "outputId": "e70c7514-bd69-4d5f-eb7a-5732166f3001"
      },
      "outputs": [],
      "source": [
        "filename = 'ac_results'\n",
        "os.getcwd()\n",
        "os.makedirs(os.path.join(os.getcwd(), filename), exist_ok=True)\n",
        "root_dir = os.path.join(os.getcwd(), filename)"
      ]
    },
    {
      "cell_type": "code",
      "execution_count": 39,
      "metadata": {
        "colab": {
          "base_uri": "https://localhost:8080/"
        },
        "id": "B57Cvu9GBPgX",
        "outputId": "596ea614-811b-4708-ed76-efce5801bf8a"
      },
      "outputs": [
        {
          "name": "stdout",
          "output_type": "stream",
          "text": [
            "Body Network: (64, 64, 10)\n",
            "\n",
            "Total number of collocation samples: 38416\n",
            "Total number of boundary samples: 8640\n"
          ]
        },
        {
          "name": "stderr",
          "output_type": "stream",
          "text": [
            "  1%|▏         | 1014/70000 [00:21<10:06, 113.66it/s]"
          ]
        },
        {
          "name": "stdout",
          "output_type": "stream",
          "text": [
            "Epoch: 1000/70000, collocation grid index: 13, lr: 0.001 --> loss: 0.00056544, best error: inf\n"
          ]
        },
        {
          "name": "stderr",
          "output_type": "stream",
          "text": [
            "  3%|▎         | 2029/70000 [00:29<07:19, 154.72it/s]"
          ]
        },
        {
          "name": "stdout",
          "output_type": "stream",
          "text": [
            "Epoch: 2000/70000, collocation grid index: 13, lr: 0.001 --> loss: 0.00016472, best error: inf\n"
          ]
        },
        {
          "name": "stderr",
          "output_type": "stream",
          "text": [
            "  4%|▍         | 3016/70000 [00:36<10:20, 107.93it/s]"
          ]
        },
        {
          "name": "stdout",
          "output_type": "stream",
          "text": [
            "Epoch: 3000/70000, collocation grid index: 13, lr: 0.001 --> loss: 0.00010481, best error: inf\n"
          ]
        },
        {
          "name": "stderr",
          "output_type": "stream",
          "text": [
            "  6%|▌         | 4023/70000 [00:43<06:47, 161.92it/s]"
          ]
        },
        {
          "name": "stdout",
          "output_type": "stream",
          "text": [
            "Epoch: 4000/70000, collocation grid index: 13, lr: 0.001 --> loss: 0.00006158, best error: inf\n"
          ]
        },
        {
          "name": "stderr",
          "output_type": "stream",
          "text": [
            "  7%|▋         | 4993/70000 [00:49<09:25, 114.95it/s]"
          ]
        },
        {
          "name": "stdout",
          "output_type": "stream",
          "text": [
            "Epoch: 5000/70000, collocation grid index: 13, lr: 0.001 --> loss: 0.00004895, best error: 0.57148540\n"
          ]
        },
        {
          "name": "stderr",
          "output_type": "stream",
          "text": [
            "  9%|▊         | 6019/70000 [01:02<10:15, 103.96it/s] "
          ]
        },
        {
          "name": "stdout",
          "output_type": "stream",
          "text": [
            "Epoch: 6000/70000, collocation grid index: 2, lr: 0.001 --> loss: 0.02008322, best error: 0.57148540\n"
          ]
        },
        {
          "name": "stderr",
          "output_type": "stream",
          "text": [
            " 10%|█         | 7021/70000 [01:11<07:51, 133.55it/s]"
          ]
        },
        {
          "name": "stdout",
          "output_type": "stream",
          "text": [
            "Epoch: 7000/70000, collocation grid index: 2, lr: 0.001 --> loss: 0.01003081, best error: 0.57148540\n"
          ]
        },
        {
          "name": "stderr",
          "output_type": "stream",
          "text": [
            " 11%|█▏        | 8020/70000 [01:19<07:46, 132.83it/s]"
          ]
        },
        {
          "name": "stdout",
          "output_type": "stream",
          "text": [
            "Epoch: 8000/70000, collocation grid index: 2, lr: 0.001 --> loss: 0.00719622, best error: 0.57148540\n"
          ]
        },
        {
          "name": "stderr",
          "output_type": "stream",
          "text": [
            " 13%|█▎        | 9025/70000 [01:28<08:06, 125.24it/s]"
          ]
        },
        {
          "name": "stdout",
          "output_type": "stream",
          "text": [
            "Epoch: 9000/70000, collocation grid index: 2, lr: 0.001 --> loss: 0.00547241, best error: 0.57148540\n"
          ]
        },
        {
          "name": "stderr",
          "output_type": "stream",
          "text": [
            " 14%|█▍        | 9995/70000 [01:36<08:51, 112.93it/s]"
          ]
        },
        {
          "name": "stdout",
          "output_type": "stream",
          "text": [
            "Epoch: 10000/70000, collocation grid index: 2, lr: 0.001 --> loss: 0.00339095, best error: 0.36539310\n"
          ]
        },
        {
          "name": "stderr",
          "output_type": "stream",
          "text": [
            " 16%|█▌        | 11014/70000 [01:49<09:54, 99.28it/s]  "
          ]
        },
        {
          "name": "stdout",
          "output_type": "stream",
          "text": [
            "Epoch: 11000/70000, collocation grid index: 12, lr: 0.001 --> loss: 0.00078604, best error: 0.36539310\n"
          ]
        },
        {
          "name": "stderr",
          "output_type": "stream",
          "text": [
            " 17%|█▋        | 12016/70000 [02:00<08:24, 114.95it/s]"
          ]
        },
        {
          "name": "stdout",
          "output_type": "stream",
          "text": [
            "Epoch: 12000/70000, collocation grid index: 12, lr: 0.001 --> loss: 0.00040650, best error: 0.36539310\n"
          ]
        },
        {
          "name": "stderr",
          "output_type": "stream",
          "text": [
            " 19%|█▊        | 13012/70000 [02:09<09:59, 95.08it/s] "
          ]
        },
        {
          "name": "stdout",
          "output_type": "stream",
          "text": [
            "Epoch: 13000/70000, collocation grid index: 12, lr: 0.001 --> loss: 0.00020524, best error: 0.36539310\n"
          ]
        },
        {
          "name": "stderr",
          "output_type": "stream",
          "text": [
            " 20%|██        | 14021/70000 [02:20<08:17, 112.55it/s]"
          ]
        },
        {
          "name": "stdout",
          "output_type": "stream",
          "text": [
            "Epoch: 14000/70000, collocation grid index: 12, lr: 0.001 --> loss: 0.00010101, best error: 0.36539310\n"
          ]
        },
        {
          "name": "stderr",
          "output_type": "stream",
          "text": [
            " 21%|██▏       | 14998/70000 [02:29<09:15, 99.04it/s] "
          ]
        },
        {
          "name": "stdout",
          "output_type": "stream",
          "text": [
            "Epoch: 15000/70000, collocation grid index: 12, lr: 0.001 --> loss: 0.00005168, best error: 0.05275854\n"
          ]
        },
        {
          "name": "stderr",
          "output_type": "stream",
          "text": [
            " 23%|██▎       | 16019/70000 [02:42<10:18, 87.24it/s]  "
          ]
        },
        {
          "name": "stdout",
          "output_type": "stream",
          "text": [
            "Epoch: 16000/70000, collocation grid index: 6, lr: 0.001 --> loss: 0.00025945, best error: 0.05275854\n"
          ]
        },
        {
          "name": "stderr",
          "output_type": "stream",
          "text": [
            " 24%|██▍       | 17013/70000 [02:51<07:21, 120.08it/s]"
          ]
        },
        {
          "name": "stdout",
          "output_type": "stream",
          "text": [
            "Epoch: 17000/70000, collocation grid index: 6, lr: 0.001 --> loss: 0.00018876, best error: 0.05275854\n"
          ]
        },
        {
          "name": "stderr",
          "output_type": "stream",
          "text": [
            " 26%|██▌       | 18022/70000 [03:00<07:02, 122.94it/s]"
          ]
        },
        {
          "name": "stdout",
          "output_type": "stream",
          "text": [
            "Epoch: 18000/70000, collocation grid index: 6, lr: 0.001 --> loss: 0.00015692, best error: 0.05275854\n"
          ]
        },
        {
          "name": "stderr",
          "output_type": "stream",
          "text": [
            " 27%|██▋       | 19020/70000 [03:09<07:42, 110.25it/s]"
          ]
        },
        {
          "name": "stdout",
          "output_type": "stream",
          "text": [
            "Epoch: 19000/70000, collocation grid index: 6, lr: 0.001 --> loss: 0.00013675, best error: 0.05275854\n"
          ]
        },
        {
          "name": "stderr",
          "output_type": "stream",
          "text": [
            " 29%|██▊       | 19996/70000 [03:18<07:14, 114.97it/s]"
          ]
        },
        {
          "name": "stdout",
          "output_type": "stream",
          "text": [
            "Epoch: 20000/70000, collocation grid index: 6, lr: 0.001 --> loss: 0.00012290, best error: 0.05275854\n"
          ]
        },
        {
          "name": "stderr",
          "output_type": "stream",
          "text": [
            " 30%|███       | 21013/70000 [03:31<09:53, 82.49it/s]  "
          ]
        },
        {
          "name": "stdout",
          "output_type": "stream",
          "text": [
            "Epoch: 21000/70000, collocation grid index: 11, lr: 0.001 --> loss: 0.00023213, best error: 0.05275854\n"
          ]
        },
        {
          "name": "stderr",
          "output_type": "stream",
          "text": [
            " 31%|███▏      | 22021/70000 [03:40<06:55, 115.40it/s]"
          ]
        },
        {
          "name": "stdout",
          "output_type": "stream",
          "text": [
            "Epoch: 22000/70000, collocation grid index: 11, lr: 0.001 --> loss: 0.00016526, best error: 0.05275854\n"
          ]
        },
        {
          "name": "stderr",
          "output_type": "stream",
          "text": [
            " 33%|███▎      | 23015/70000 [03:50<08:05, 96.69it/s] "
          ]
        },
        {
          "name": "stdout",
          "output_type": "stream",
          "text": [
            "Epoch: 23000/70000, collocation grid index: 11, lr: 0.001 --> loss: 0.00014399, best error: 0.05275854\n"
          ]
        },
        {
          "name": "stderr",
          "output_type": "stream",
          "text": [
            " 34%|███▍      | 24024/70000 [03:59<06:59, 109.67it/s]"
          ]
        },
        {
          "name": "stdout",
          "output_type": "stream",
          "text": [
            "Epoch: 24000/70000, collocation grid index: 11, lr: 0.001 --> loss: 0.00012938, best error: 0.05275854\n"
          ]
        },
        {
          "name": "stderr",
          "output_type": "stream",
          "text": [
            " 36%|███▌      | 24997/70000 [04:09<06:21, 117.93it/s]"
          ]
        },
        {
          "name": "stdout",
          "output_type": "stream",
          "text": [
            "Epoch: 25000/70000, collocation grid index: 11, lr: 0.001 --> loss: 0.00012197, best error: 0.05275854\n"
          ]
        },
        {
          "name": "stderr",
          "output_type": "stream",
          "text": [
            " 37%|███▋      | 26023/70000 [04:23<06:56, 105.51it/s] "
          ]
        },
        {
          "name": "stdout",
          "output_type": "stream",
          "text": [
            "Epoch: 26000/70000, collocation grid index: 3, lr: 0.001 --> loss: 0.00210496, best error: 0.05275854\n"
          ]
        },
        {
          "name": "stderr",
          "output_type": "stream",
          "text": [
            " 39%|███▊      | 27015/70000 [04:30<05:19, 134.70it/s]"
          ]
        },
        {
          "name": "stdout",
          "output_type": "stream",
          "text": [
            "Epoch: 27000/70000, collocation grid index: 3, lr: 0.001 --> loss: 0.00122925, best error: 0.05275854\n"
          ]
        },
        {
          "name": "stderr",
          "output_type": "stream",
          "text": [
            " 40%|████      | 28019/70000 [04:39<05:07, 136.35it/s]"
          ]
        },
        {
          "name": "stdout",
          "output_type": "stream",
          "text": [
            "Epoch: 28000/70000, collocation grid index: 3, lr: 0.001 --> loss: 0.00081909, best error: 0.05275854\n"
          ]
        },
        {
          "name": "stderr",
          "output_type": "stream",
          "text": [
            " 41%|████▏     | 29019/70000 [04:47<04:43, 144.35it/s]"
          ]
        },
        {
          "name": "stdout",
          "output_type": "stream",
          "text": [
            "Epoch: 29000/70000, collocation grid index: 3, lr: 0.001 --> loss: 0.00070144, best error: 0.05275854\n"
          ]
        },
        {
          "name": "stderr",
          "output_type": "stream",
          "text": [
            " 43%|████▎     | 29992/70000 [04:54<04:34, 145.63it/s]"
          ]
        },
        {
          "name": "stdout",
          "output_type": "stream",
          "text": [
            "Epoch: 30000/70000, collocation grid index: 3, lr: 0.001 --> loss: 0.00064205, best error: 0.05275854\n"
          ]
        },
        {
          "name": "stderr",
          "output_type": "stream",
          "text": [
            " 44%|████▍     | 31021/70000 [05:06<06:14, 104.13it/s]"
          ]
        },
        {
          "name": "stdout",
          "output_type": "stream",
          "text": [
            "Epoch: 31000/70000, collocation grid index: 4, lr: 0.001 --> loss: 0.00103707, best error: 0.05275854\n"
          ]
        },
        {
          "name": "stderr",
          "output_type": "stream",
          "text": [
            " 46%|████▌     | 32022/70000 [05:14<04:32, 139.28it/s]"
          ]
        },
        {
          "name": "stdout",
          "output_type": "stream",
          "text": [
            "Epoch: 32000/70000, collocation grid index: 4, lr: 0.001 --> loss: 0.00058142, best error: 0.05275854\n"
          ]
        },
        {
          "name": "stderr",
          "output_type": "stream",
          "text": [
            " 47%|████▋     | 33013/70000 [05:22<06:06, 100.81it/s]"
          ]
        },
        {
          "name": "stdout",
          "output_type": "stream",
          "text": [
            "Epoch: 33000/70000, collocation grid index: 4, lr: 0.001 --> loss: 0.00040373, best error: 0.05275854\n"
          ]
        },
        {
          "name": "stderr",
          "output_type": "stream",
          "text": [
            " 49%|████▊     | 34016/70000 [05:30<04:13, 141.69it/s]"
          ]
        },
        {
          "name": "stdout",
          "output_type": "stream",
          "text": [
            "Epoch: 34000/70000, collocation grid index: 4, lr: 0.001 --> loss: 0.00024683, best error: 0.05275854\n"
          ]
        },
        {
          "name": "stderr",
          "output_type": "stream",
          "text": [
            " 50%|████▉     | 34998/70000 [05:37<06:21, 91.73it/s] "
          ]
        },
        {
          "name": "stdout",
          "output_type": "stream",
          "text": [
            "Epoch: 35000/70000, collocation grid index: 4, lr: 0.001 --> loss: 0.00017296, best error: 0.05275854\n"
          ]
        },
        {
          "name": "stderr",
          "output_type": "stream",
          "text": [
            " 51%|█████▏    | 36022/70000 [05:49<05:08, 110.27it/s]"
          ]
        },
        {
          "name": "stdout",
          "output_type": "stream",
          "text": [
            "Epoch: 36000/70000, collocation grid index: 5, lr: 0.001 --> loss: 0.00005556, best error: 0.05275854\n"
          ]
        },
        {
          "name": "stderr",
          "output_type": "stream",
          "text": [
            " 53%|█████▎    | 37016/70000 [05:56<04:28, 122.78it/s]"
          ]
        },
        {
          "name": "stdout",
          "output_type": "stream",
          "text": [
            "Epoch: 37000/70000, collocation grid index: 5, lr: 0.001 --> loss: 0.00004314, best error: 0.05275854\n"
          ]
        },
        {
          "name": "stderr",
          "output_type": "stream",
          "text": [
            " 54%|█████▍    | 38030/70000 [06:03<03:37, 146.93it/s]"
          ]
        },
        {
          "name": "stdout",
          "output_type": "stream",
          "text": [
            "Epoch: 38000/70000, collocation grid index: 5, lr: 0.001 --> loss: 0.00003601, best error: 0.05275854\n"
          ]
        },
        {
          "name": "stderr",
          "output_type": "stream",
          "text": [
            " 56%|█████▌    | 39019/70000 [06:11<04:54, 105.29it/s]"
          ]
        },
        {
          "name": "stdout",
          "output_type": "stream",
          "text": [
            "Epoch: 39000/70000, collocation grid index: 5, lr: 0.001 --> loss: 0.00002902, best error: 0.05275854\n"
          ]
        },
        {
          "name": "stderr",
          "output_type": "stream",
          "text": [
            " 57%|█████▋    | 39998/70000 [06:18<03:29, 143.24it/s]"
          ]
        },
        {
          "name": "stdout",
          "output_type": "stream",
          "text": [
            "Epoch: 40000/70000, collocation grid index: 5, lr: 0.001 --> loss: 0.00002241, best error: 0.05275854\n"
          ]
        },
        {
          "name": "stderr",
          "output_type": "stream",
          "text": [
            " 59%|█████▊    | 41020/70000 [06:31<03:59, 120.94it/s]"
          ]
        },
        {
          "name": "stdout",
          "output_type": "stream",
          "text": [
            "Epoch: 41000/70000, collocation grid index: 1, lr: 0.001 --> loss: 0.00002394, best error: 0.05275854\n"
          ]
        },
        {
          "name": "stderr",
          "output_type": "stream",
          "text": [
            " 60%|██████    | 42014/70000 [06:38<03:27, 134.70it/s]"
          ]
        },
        {
          "name": "stdout",
          "output_type": "stream",
          "text": [
            "Epoch: 42000/70000, collocation grid index: 1, lr: 0.001 --> loss: 0.00002415, best error: 0.05275854\n"
          ]
        },
        {
          "name": "stderr",
          "output_type": "stream",
          "text": [
            " 61%|██████▏   | 43019/70000 [06:47<03:04, 145.91it/s]"
          ]
        },
        {
          "name": "stdout",
          "output_type": "stream",
          "text": [
            "Epoch: 43000/70000, collocation grid index: 1, lr: 0.001 --> loss: 0.00001429, best error: 0.05275854\n"
          ]
        },
        {
          "name": "stderr",
          "output_type": "stream",
          "text": [
            " 63%|██████▎   | 44028/70000 [06:53<02:56, 147.33it/s]"
          ]
        },
        {
          "name": "stdout",
          "output_type": "stream",
          "text": [
            "Epoch: 44000/70000, collocation grid index: 1, lr: 0.001 --> loss: 0.00001080, best error: 0.05275854\n"
          ]
        },
        {
          "name": "stderr",
          "output_type": "stream",
          "text": [
            " 64%|██████▍   | 44988/70000 [07:01<03:23, 123.09it/s]"
          ]
        },
        {
          "name": "stdout",
          "output_type": "stream",
          "text": [
            "Epoch: 45000/70000, collocation grid index: 1, lr: 0.001 --> loss: 0.00000857, best error: 0.03569463\n"
          ]
        },
        {
          "name": "stderr",
          "output_type": "stream",
          "text": [
            " 66%|██████▌   | 46019/70000 [07:12<03:24, 117.21it/s]"
          ]
        },
        {
          "name": "stdout",
          "output_type": "stream",
          "text": [
            "Epoch: 46000/70000, collocation grid index: 8, lr: 0.001 --> loss: 0.02133887, best error: 0.03569463\n"
          ]
        },
        {
          "name": "stderr",
          "output_type": "stream",
          "text": [
            " 67%|██████▋   | 47030/70000 [07:20<02:39, 144.21it/s]"
          ]
        },
        {
          "name": "stdout",
          "output_type": "stream",
          "text": [
            "Epoch: 47000/70000, collocation grid index: 8, lr: 0.001 --> loss: 0.00729798, best error: 0.03569463\n"
          ]
        },
        {
          "name": "stderr",
          "output_type": "stream",
          "text": [
            " 69%|██████▊   | 48019/70000 [07:26<03:09, 116.08it/s]"
          ]
        },
        {
          "name": "stdout",
          "output_type": "stream",
          "text": [
            "Epoch: 48000/70000, collocation grid index: 8, lr: 0.001 --> loss: 0.00432913, best error: 0.03569463\n"
          ]
        },
        {
          "name": "stderr",
          "output_type": "stream",
          "text": [
            " 70%|███████   | 49021/70000 [07:35<02:21, 147.90it/s]"
          ]
        },
        {
          "name": "stdout",
          "output_type": "stream",
          "text": [
            "Epoch: 49000/70000, collocation grid index: 8, lr: 0.001 --> loss: 0.00294325, best error: 0.03569463\n"
          ]
        },
        {
          "name": "stderr",
          "output_type": "stream",
          "text": [
            " 71%|███████▏  | 49996/70000 [07:42<02:17, 145.07it/s]"
          ]
        },
        {
          "name": "stdout",
          "output_type": "stream",
          "text": [
            "Epoch: 50000/70000, collocation grid index: 8, lr: 0.001 --> loss: 0.00200189, best error: 0.03569463\n"
          ]
        },
        {
          "name": "stderr",
          "output_type": "stream",
          "text": [
            " 73%|███████▎  | 51026/70000 [07:54<02:35, 121.81it/s]"
          ]
        },
        {
          "name": "stdout",
          "output_type": "stream",
          "text": [
            "Epoch: 51000/70000, collocation grid index: 10, lr: 0.001 --> loss: 0.00091140, best error: 0.03569463\n"
          ]
        },
        {
          "name": "stderr",
          "output_type": "stream",
          "text": [
            " 74%|███████▍  | 52011/70000 [08:02<02:37, 114.50it/s]"
          ]
        },
        {
          "name": "stdout",
          "output_type": "stream",
          "text": [
            "Epoch: 52000/70000, collocation grid index: 10, lr: 0.001 --> loss: 0.00057769, best error: 0.03569463\n"
          ]
        },
        {
          "name": "stderr",
          "output_type": "stream",
          "text": [
            " 76%|███████▌  | 53025/70000 [08:10<02:17, 123.32it/s]"
          ]
        },
        {
          "name": "stdout",
          "output_type": "stream",
          "text": [
            "Epoch: 53000/70000, collocation grid index: 10, lr: 0.001 --> loss: 0.00044008, best error: 0.03569463\n"
          ]
        },
        {
          "name": "stderr",
          "output_type": "stream",
          "text": [
            " 77%|███████▋  | 54011/70000 [08:18<02:29, 107.26it/s]"
          ]
        },
        {
          "name": "stdout",
          "output_type": "stream",
          "text": [
            "Epoch: 54000/70000, collocation grid index: 10, lr: 0.001 --> loss: 0.00036626, best error: 0.03569463\n"
          ]
        },
        {
          "name": "stderr",
          "output_type": "stream",
          "text": [
            " 79%|███████▊  | 54991/70000 [08:25<01:43, 145.70it/s]"
          ]
        },
        {
          "name": "stdout",
          "output_type": "stream",
          "text": [
            "Epoch: 55000/70000, collocation grid index: 10, lr: 0.001 --> loss: 0.00028555, best error: 0.03569463\n"
          ]
        },
        {
          "name": "stderr",
          "output_type": "stream",
          "text": [
            " 80%|████████  | 56026/70000 [08:38<02:00, 115.74it/s]"
          ]
        },
        {
          "name": "stdout",
          "output_type": "stream",
          "text": [
            "Epoch: 56000/70000, collocation grid index: 9, lr: 0.001 --> loss: 0.00041923, best error: 0.03569463\n"
          ]
        },
        {
          "name": "stderr",
          "output_type": "stream",
          "text": [
            " 81%|████████▏ | 57008/70000 [08:46<01:54, 113.39it/s]"
          ]
        },
        {
          "name": "stdout",
          "output_type": "stream",
          "text": [
            "Epoch: 57000/70000, collocation grid index: 9, lr: 0.001 --> loss: 0.00031555, best error: 0.03569463\n"
          ]
        },
        {
          "name": "stderr",
          "output_type": "stream",
          "text": [
            " 83%|████████▎ | 58017/70000 [08:55<01:43, 115.92it/s]"
          ]
        },
        {
          "name": "stdout",
          "output_type": "stream",
          "text": [
            "Epoch: 58000/70000, collocation grid index: 9, lr: 0.001 --> loss: 0.00025855, best error: 0.03569463\n"
          ]
        },
        {
          "name": "stderr",
          "output_type": "stream",
          "text": [
            " 84%|████████▍ | 59015/70000 [09:03<01:41, 108.19it/s]"
          ]
        },
        {
          "name": "stdout",
          "output_type": "stream",
          "text": [
            "Epoch: 59000/70000, collocation grid index: 9, lr: 0.001 --> loss: 0.00018469, best error: 0.03569463\n"
          ]
        },
        {
          "name": "stderr",
          "output_type": "stream",
          "text": [
            " 86%|████████▌ | 59990/70000 [09:11<01:15, 132.87it/s]"
          ]
        },
        {
          "name": "stdout",
          "output_type": "stream",
          "text": [
            "Epoch: 60000/70000, collocation grid index: 9, lr: 0.001 --> loss: 0.00016155, best error: 0.03569463\n"
          ]
        },
        {
          "name": "stderr",
          "output_type": "stream",
          "text": [
            " 87%|████████▋ | 61028/70000 [09:24<01:13, 122.57it/s]"
          ]
        },
        {
          "name": "stdout",
          "output_type": "stream",
          "text": [
            "Epoch: 61000/70000, collocation grid index: 0, lr: 0.001 --> loss: 0.00006481, best error: 0.03569463\n"
          ]
        },
        {
          "name": "stderr",
          "output_type": "stream",
          "text": [
            " 89%|████████▊ | 62024/70000 [09:32<00:57, 137.81it/s]"
          ]
        },
        {
          "name": "stdout",
          "output_type": "stream",
          "text": [
            "Epoch: 62000/70000, collocation grid index: 0, lr: 0.001 --> loss: 0.00005024, best error: 0.03569463\n"
          ]
        },
        {
          "name": "stderr",
          "output_type": "stream",
          "text": [
            " 90%|█████████ | 63013/70000 [09:41<00:52, 134.03it/s]"
          ]
        },
        {
          "name": "stdout",
          "output_type": "stream",
          "text": [
            "Epoch: 63000/70000, collocation grid index: 0, lr: 0.001 --> loss: 0.00004180, best error: 0.03569463\n"
          ]
        },
        {
          "name": "stderr",
          "output_type": "stream",
          "text": [
            " 91%|█████████▏| 64025/70000 [09:49<00:44, 134.86it/s]"
          ]
        },
        {
          "name": "stdout",
          "output_type": "stream",
          "text": [
            "Epoch: 64000/70000, collocation grid index: 0, lr: 0.001 --> loss: 0.00005303, best error: 0.03569463\n"
          ]
        },
        {
          "name": "stderr",
          "output_type": "stream",
          "text": [
            " 93%|█████████▎| 65022/70000 [10:00<03:32, 23.39it/s] "
          ]
        },
        {
          "name": "stdout",
          "output_type": "stream",
          "text": [
            "Epoch: 65000/70000, collocation grid index: 0, lr: 0.001 --> loss: 0.00003598, best error: 0.03569463\n"
          ]
        },
        {
          "name": "stderr",
          "output_type": "stream",
          "text": [
            " 94%|█████████▍| 66023/70000 [10:08<00:35, 113.12it/s]"
          ]
        },
        {
          "name": "stdout",
          "output_type": "stream",
          "text": [
            "Epoch: 66000/70000, collocation grid index: 7, lr: 0.001 --> loss: 0.00011587, best error: 0.03569463\n"
          ]
        },
        {
          "name": "stderr",
          "output_type": "stream",
          "text": [
            " 96%|█████████▌| 67025/70000 [10:16<00:19, 149.87it/s]"
          ]
        },
        {
          "name": "stdout",
          "output_type": "stream",
          "text": [
            "Epoch: 67000/70000, collocation grid index: 7, lr: 0.001 --> loss: 0.00008862, best error: 0.03569463\n"
          ]
        },
        {
          "name": "stderr",
          "output_type": "stream",
          "text": [
            " 97%|█████████▋| 68012/70000 [10:23<00:21, 91.07it/s] "
          ]
        },
        {
          "name": "stdout",
          "output_type": "stream",
          "text": [
            "Epoch: 68000/70000, collocation grid index: 7, lr: 0.001 --> loss: 0.00006695, best error: 0.03569463\n"
          ]
        },
        {
          "name": "stderr",
          "output_type": "stream",
          "text": [
            " 99%|█████████▊| 69026/70000 [10:31<00:06, 147.01it/s]"
          ]
        },
        {
          "name": "stdout",
          "output_type": "stream",
          "text": [
            "Epoch: 69000/70000, collocation grid index: 7, lr: 0.001 --> loss: 0.00004974, best error: 0.03569463\n"
          ]
        },
        {
          "name": "stderr",
          "output_type": "stream",
          "text": [
            "100%|██████████| 70000/70000 [10:40<00:00, 109.27it/s]"
          ]
        },
        {
          "name": "stdout",
          "output_type": "stream",
          "text": [
            "Epoch: 70000/70000, collocation grid index: 7, lr: 0.001 --> loss: 0.00004841, best error: 0.03569463\n",
            "Runtime: 9.15 ms/iter.\n"
          ]
        },
        {
          "name": "stderr",
          "output_type": "stream",
          "text": [
            "\n"
          ]
        }
      ],
      "source": [
        "result_dir = os.path.join(root_dir, 'adam')\n",
        "os.makedirs(result_dir, exist_ok=True)\n",
        "\n",
        "lss_list, time_list, params_list, best_params = main(NC=14, NB=6, SAMP_FREQ=5000, SEED=444, EPOCHS=70000, \\\n",
        "                                                    N_LAYERS=3, NNEURONS=[64,10], LOG_ITER=100, PRINT_ITER=1000, \\\n",
        "                                                    NUM_BATCHES_COLL=14, NUM_BATCHES_BOUND=40, \\\n",
        "                                                    NDIMS = 21, BATCH_SIZE = 1, LAMB = 15, WDIR=result_dir, \\\n",
        "                                                    OPT_DICT = {'Optimizer': 'Adam', 'Lr': 1e-3, 'Reg': 0.1, 'Param_Initial': None})"
      ]
    },
    {
      "cell_type": "code",
      "execution_count": 41,
      "metadata": {
        "colab": {
          "base_uri": "https://localhost:8080/"
        },
        "id": "fbjnj9YhfZrn",
        "outputId": "6dad8329-ca00-4b63-b6b3-e2071a940b4f"
      },
      "outputs": [
        {
          "name": "stdout",
          "output_type": "stream",
          "text": [
            "Body Network: (64, 64, 10)\n",
            "\n",
            "Total number of collocation samples: 38416\n",
            "Total number of boundary samples: 8640\n"
          ]
        },
        {
          "name": "stderr",
          "output_type": "stream",
          "text": [
            " 14%|█▍        | 9989/70000 [01:57<08:29, 117.80it/s] "
          ]
        },
        {
          "name": "stdout",
          "output_type": "stream",
          "text": [
            "Epoch: 10000/70000, collocation grid index: 2, lr: 0.01 --> loss: 0.00002102, best error: 0.03765579\n"
          ]
        },
        {
          "name": "stderr",
          "output_type": "stream",
          "text": [
            " 29%|██▊       | 19999/70000 [03:47<06:28, 128.78it/s] "
          ]
        },
        {
          "name": "stdout",
          "output_type": "stream",
          "text": [
            "Epoch: 20000/70000, collocation grid index: 6, lr: 0.01 --> loss: 0.00001760, best error: 0.02957998\n"
          ]
        },
        {
          "name": "stderr",
          "output_type": "stream",
          "text": [
            " 43%|████▎     | 29997/70000 [05:20<05:02, 132.27it/s] "
          ]
        },
        {
          "name": "stdout",
          "output_type": "stream",
          "text": [
            "Epoch: 30000/70000, collocation grid index: 3, lr: 0.01 --> loss: 0.00000868, best error: 0.02957998\n"
          ]
        },
        {
          "name": "stderr",
          "output_type": "stream",
          "text": [
            " 57%|█████▋    | 39995/70000 [06:56<03:53, 128.74it/s]"
          ]
        },
        {
          "name": "stdout",
          "output_type": "stream",
          "text": [
            "Epoch: 40000/70000, collocation grid index: 5, lr: 0.01 --> loss: 0.00000375, best error: 0.02957998\n"
          ]
        },
        {
          "name": "stderr",
          "output_type": "stream",
          "text": [
            " 71%|███████▏  | 49996/70000 [08:41<05:04, 65.77it/s] "
          ]
        },
        {
          "name": "stdout",
          "output_type": "stream",
          "text": [
            "Epoch: 50000/70000, collocation grid index: 8, lr: 0.01 --> loss: 0.00000379, best error: 0.02957998\n"
          ]
        },
        {
          "name": "stderr",
          "output_type": "stream",
          "text": [
            " 86%|████████▌ | 59999/70000 [11:27<02:12, 75.66it/s]  "
          ]
        },
        {
          "name": "stdout",
          "output_type": "stream",
          "text": [
            "Epoch: 60000/70000, collocation grid index: 9, lr: 0.01 --> loss: 0.00001489, best error: 0.02957998\n"
          ]
        },
        {
          "name": "stderr",
          "output_type": "stream",
          "text": [
            "100%|██████████| 70000/70000 [14:08<00:00, 82.52it/s]"
          ]
        },
        {
          "name": "stdout",
          "output_type": "stream",
          "text": [
            "Epoch: 70000/70000, collocation grid index: 7, lr: 0.01 --> loss: 0.00000655, best error: 0.02957998\n",
            "Runtime: 12.12 ms/iter.\n"
          ]
        },
        {
          "name": "stderr",
          "output_type": "stream",
          "text": [
            "\n"
          ]
        }
      ],
      "source": [
        "result_dir = os.path.join(root_dir, 'lbfgs')\n",
        "os.makedirs(result_dir, exist_ok=True)\n",
        "\n",
        "lss_list_2, time_list_2, params_list_2, best_params_2 = lbfgs(NC=14, NB=6, SAMP_FREQ=5000, SEED=444, LR=1e-2, EPOCHS=70000,\\\n",
        "                                                    N_LAYERS=3, NNEURONS=[64,10], LOG_ITER=100, PRINT_ITER=10000, NUM_BATCHES_COLL=14,\\\n",
        "                                                    NUM_BATCHES_BOUND=40, NDIMS = 21, BATCH_SIZE = 1, LAMB = 15,\\\n",
        "                                                    PARAM_INIT=params_list[-1], WDIR=result_dir)"
      ]
    },
    {
      "cell_type": "code",
      "execution_count": 63,
      "metadata": {
        "colab": {
          "base_uri": "https://localhost:8080/"
        },
        "id": "jYw0nBXxlgtT",
        "outputId": "fbb23628-7b81-471e-f8c7-ffa168fb96c2"
      },
      "outputs": [
        {
          "name": "stdout",
          "output_type": "stream",
          "text": [
            "% Relative L2 Error: 3.0749998092651367 %\n"
          ]
        }
      ],
      "source": [
        "f_filename = 'ac_results'\n",
        "s_filename = 'lbfgs'\n",
        "root_dir1 = os.path.join(os.getcwd(), f_filename)\n",
        "root_dir1 = os.path.join(root_dir1, s_filename)\n",
        "_, _, _, best_params = load_results(root_dir1)\n",
        "\n",
        "# testing on randomly sampled test points\n",
        "test = test_model_ntimes(444, root_dir, [best_params], 7, [64, 64, 10], ext='lbfgs')"
      ]
    },
    {
      "cell_type": "code",
      "execution_count": null,
      "metadata": {},
      "outputs": [],
      "source": []
    }
  ],
  "metadata": {
    "accelerator": "GPU",
    "colab": {
      "collapsed_sections": [
        "y3OErz7bN_5O",
        "I4FCFrVLMgGR",
        "lRrO5OB8MdDb",
        "8r5ubgXiMZnv",
        "wEWeH3ZFN_5P",
        "sqjNv1675Zo-",
        "qQAhmc41yrTj",
        "9Q3WgLq_N_5P",
        "zHY_BXICPGLI"
      ],
      "gpuType": "T4",
      "machine_shape": "hm",
      "provenance": []
    },
    "kernelspec": {
      "display_name": ".venv (3.13.2)",
      "language": "python",
      "name": "python3"
    },
    "language_info": {
      "codemirror_mode": {
        "name": "ipython",
        "version": 3
      },
      "file_extension": ".py",
      "mimetype": "text/x-python",
      "name": "python",
      "nbconvert_exporter": "python",
      "pygments_lexer": "ipython3",
      "version": "3.13.2"
    }
  },
  "nbformat": 4,
  "nbformat_minor": 0
}
